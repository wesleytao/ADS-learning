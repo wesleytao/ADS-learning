{
 "cells": [
  {
   "cell_type": "code",
   "execution_count": 1,
   "metadata": {
    "collapsed": true
   },
   "outputs": [],
   "source": [
    "from __future__ import print_function, unicode_literals, division\n",
    "from bz2 import BZ2File\n",
    "import time\n",
    "import plac\n",
    "import ujson\n",
    "from spacy.matcher import PhraseMatcher\n",
    "import spacy\n",
    "import time \n",
    "import gc\n",
    "from spacy import displacy\n",
    "import numpy as np\n",
    "import pandas as pd\n",
    "import os"
   ]
  },
  {
   "cell_type": "markdown",
   "metadata": {},
   "source": [
    "# 1. Load Data\n"
   ]
  },
  {
   "cell_type": "markdown",
   "metadata": {},
   "source": [
    "## 1.1 Inaugural speech\n",
    "All the Inaugural speeches are store in a dicitonary. Keys are the title and values are the whole text."
   ]
  },
  {
   "cell_type": "code",
   "execution_count": 4,
   "metadata": {
    "collapsed": true
   },
   "outputs": [],
   "source": [
    "speechpath=os.path.expanduser(\"~Wesle\\Documents\\GitHub\\ADS_Teaching\\Projects_StarterCodes\\Project1-RNotebook\\data\\InauguralSpeeches\")\n",
    "speechpath=os.path.normpath(speechpath)"
   ]
  },
  {
   "cell_type": "code",
   "execution_count": 5,
   "metadata": {
    "collapsed": true
   },
   "outputs": [],
   "source": [
    "assert os.path.exists(speechpath)\n",
    "# get the file names in the dir\n",
    "filenames = os.listdir(speechpath)\n",
    "# load all speeches in a dictionary\n",
    "speechdict=dict()\n",
    "for file in filenames:\n",
    "    thispath= speechpath + \"\\\\\"+file\n",
    "    with open(thispath,\"br\") as f:\n",
    "        thisspeech=f.read().decode(\"utf-8\")\n",
    "        speechdict[file]=thisspeech"
   ]
  },
  {
   "cell_type": "code",
   "execution_count": 6,
   "metadata": {
    "collapsed": true
   },
   "outputs": [],
   "source": [
    "speechpath1=os.path.expanduser(\"~Wesle\\Documents\\GitHub\\ADS_Teaching\\Projects_StarterCodes\\Project1-RNotebook\\data\")\n",
    "speechpath1=os.path.normpath(speechpath1)\n",
    "speechinfo=pd.read_excel(speechpath1+\"//\"+\"InaugurationInfo.xlsx\")\n",
    "\n"
   ]
  },
  {
   "cell_type": "code",
   "execution_count": 7,
   "metadata": {
    "collapsed": true
   },
   "outputs": [],
   "source": [
    "speechdate=pd.read_table(speechpath1+\"//\"+\"InauguationDates.txt\",sep=\"\\t\")\n",
    "speechdate=speechdate.rename(index=str, columns={\"PRESIDENT\":\"President\",\"FIRST\": 1, \"SECOND\":2,\"THIRD\":3 ,\"FOURTH\":4})\n",
    "speechdate=pd.melt(speechdate,id_vars=[\"President\"],value_vars=[1,2,3,4])\n",
    "speechdate=speechdate.loc[speechdate.value.notnull()]\n",
    "speechdate=speechdate.rename(index=str,columns={\"variable\":\"Term\",\"value\":\"date\"})\n"
   ]
  },
  {
   "cell_type": "code",
   "execution_count": 8,
   "metadata": {},
   "outputs": [
    {
     "data": {
      "text/html": [
       "<div>\n",
       "<style scoped>\n",
       "    .dataframe tbody tr th:only-of-type {\n",
       "        vertical-align: middle;\n",
       "    }\n",
       "\n",
       "    .dataframe tbody tr th {\n",
       "        vertical-align: top;\n",
       "    }\n",
       "\n",
       "    .dataframe thead th {\n",
       "        text-align: right;\n",
       "    }\n",
       "</style>\n",
       "<table border=\"1\" class=\"dataframe\">\n",
       "  <thead>\n",
       "    <tr style=\"text-align: right;\">\n",
       "      <th></th>\n",
       "      <th>File</th>\n",
       "      <th>Term</th>\n",
       "      <th>Party</th>\n",
       "      <th>Words</th>\n",
       "      <th>date</th>\n",
       "    </tr>\n",
       "    <tr>\n",
       "      <th>President</th>\n",
       "      <th></th>\n",
       "      <th></th>\n",
       "      <th></th>\n",
       "      <th></th>\n",
       "      <th></th>\n",
       "    </tr>\n",
       "  </thead>\n",
       "  <tbody>\n",
       "    <tr>\n",
       "      <th>George Washington</th>\n",
       "      <td>GeorgeWashington</td>\n",
       "      <td>1</td>\n",
       "      <td>NaN</td>\n",
       "      <td>1431</td>\n",
       "      <td>4/30/1789</td>\n",
       "    </tr>\n",
       "    <tr>\n",
       "      <th>George Washington</th>\n",
       "      <td>GeorgeWashington</td>\n",
       "      <td>2</td>\n",
       "      <td>NaN</td>\n",
       "      <td>135</td>\n",
       "      <td>3/4/1793</td>\n",
       "    </tr>\n",
       "    <tr>\n",
       "      <th>John Adams</th>\n",
       "      <td>JohnAdams</td>\n",
       "      <td>1</td>\n",
       "      <td>Fedralist</td>\n",
       "      <td>2321</td>\n",
       "      <td>3/4/1797</td>\n",
       "    </tr>\n",
       "    <tr>\n",
       "      <th>Thomas Jefferson</th>\n",
       "      <td>ThomasJefferson</td>\n",
       "      <td>1</td>\n",
       "      <td>Democratic-Republican Party</td>\n",
       "      <td>1730</td>\n",
       "      <td>3/4/1801</td>\n",
       "    </tr>\n",
       "    <tr>\n",
       "      <th>Thomas Jefferson</th>\n",
       "      <td>ThomasJefferson</td>\n",
       "      <td>2</td>\n",
       "      <td>Democratic-Republican Party</td>\n",
       "      <td>2166</td>\n",
       "      <td>3/4/1805</td>\n",
       "    </tr>\n",
       "    <tr>\n",
       "      <th>James Madison</th>\n",
       "      <td>JamesMadison</td>\n",
       "      <td>1</td>\n",
       "      <td>Democratic-Republican Party</td>\n",
       "      <td>1177</td>\n",
       "      <td>3/4/1809</td>\n",
       "    </tr>\n",
       "    <tr>\n",
       "      <th>James Madison</th>\n",
       "      <td>JamesMadison</td>\n",
       "      <td>2</td>\n",
       "      <td>Democratic-Republican Party</td>\n",
       "      <td>1211</td>\n",
       "      <td>3/4/1813</td>\n",
       "    </tr>\n",
       "    <tr>\n",
       "      <th>James Monroe</th>\n",
       "      <td>JamesMonroe</td>\n",
       "      <td>1</td>\n",
       "      <td>Democratic-Republican Party</td>\n",
       "      <td>3375</td>\n",
       "      <td>3/4/1817</td>\n",
       "    </tr>\n",
       "    <tr>\n",
       "      <th>James Monroe</th>\n",
       "      <td>JamesMonroe</td>\n",
       "      <td>2</td>\n",
       "      <td>Democratic-Republican Party</td>\n",
       "      <td>4472</td>\n",
       "      <td>3/5/1821</td>\n",
       "    </tr>\n",
       "    <tr>\n",
       "      <th>John Quincy Adams</th>\n",
       "      <td>JohnQuincyAdams</td>\n",
       "      <td>1</td>\n",
       "      <td>Democratic-Republican Party</td>\n",
       "      <td>2915</td>\n",
       "      <td>3/4/1825</td>\n",
       "    </tr>\n",
       "  </tbody>\n",
       "</table>\n",
       "</div>"
      ],
      "text/plain": [
       "                               File Term                        Party Words  \\\n",
       "President                                                                     \n",
       "George Washington  GeorgeWashington    1                          NaN  1431   \n",
       "George Washington  GeorgeWashington    2                          NaN   135   \n",
       "John Adams                JohnAdams    1                    Fedralist  2321   \n",
       "Thomas Jefferson    ThomasJefferson    1  Democratic-Republican Party  1730   \n",
       "Thomas Jefferson    ThomasJefferson    2  Democratic-Republican Party  2166   \n",
       "James Madison          JamesMadison    1  Democratic-Republican Party  1177   \n",
       "James Madison          JamesMadison    2  Democratic-Republican Party  1211   \n",
       "James Monroe            JamesMonroe    1  Democratic-Republican Party  3375   \n",
       "James Monroe            JamesMonroe    2  Democratic-Republican Party  4472   \n",
       "John Quincy Adams   JohnQuincyAdams    1  Democratic-Republican Party  2915   \n",
       "\n",
       "                        date  \n",
       "President                     \n",
       "George Washington  4/30/1789  \n",
       "George Washington   3/4/1793  \n",
       "John Adams          3/4/1797  \n",
       "Thomas Jefferson    3/4/1801  \n",
       "Thomas Jefferson    3/4/1805  \n",
       "James Madison       3/4/1809  \n",
       "James Madison       3/4/1813  \n",
       "James Monroe        3/4/1817  \n",
       "James Monroe        3/5/1821  \n",
       "John Quincy Adams   3/4/1825  "
      ]
     },
     "execution_count": 8,
     "metadata": {},
     "output_type": "execute_result"
    }
   ],
   "source": [
    "mergeddata=pd.merge(speechinfo, speechdate, on=['President',\"Term\"], how='left')\n",
    "# mergeddata.replace(np.nan,\"\",regex=True)\n",
    "mergeddata=mergeddata.set_index([\"President\"])\n",
    "mergeddata[0:10]"
   ]
  },
  {
   "cell_type": "markdown",
   "metadata": {},
   "source": [
    "## 1.2 Chopus\n",
    "There are 5 external chopus that will be used in this project. <br>\n",
    "Sources are listed below\n",
    "###  en_core_web_sm  (The built-in chopus of spacy )\n",
    "English multi-task CNN trained on OntoNotes, with GloVe vectors trained on Common Crawl. Assigns word vectors, context-specific token vectors, POS tags, dependency parse and named entities.\n",
    "<br>\n",
    "https://spacy.io/models/en#en_core_web_sm"
   ]
  },
  {
   "cell_type": "markdown",
   "metadata": {},
   "source": [
    "### CET 4 & CET 6 :"
   ]
  },
  {
   "cell_type": "code",
   "execution_count": 9,
   "metadata": {
    "collapsed": true
   },
   "outputs": [],
   "source": [
    "cet4path=os.path.expanduser(\"~Wesle\\Documents\\GitHub\\ADS_Teaching\\Projects_StarterCodes\\Project1-RNotebook\\data\\cet-4.txt\")\n",
    "cet4path=os.path.normpath(cet4path)\n",
    "assert os.path.exists(cet4path)    \n",
    "cet4=pd.read_table(cet4path)\n",
    "def get_string(thislist):\n",
    "    return thislist[1]\n",
    "cet4=cet4.iloc[:,0].str.split('\"').apply(get_string)\n",
    "# cet4s=\" \".join(list(cet4.values))\n",
    "# prossessedcet4=FileProcessor(cet4s)\n",
    "# CET4set=set(prossessedcet4.SelectQualified().text)"
   ]
  },
  {
   "cell_type": "code",
   "execution_count": 10,
   "metadata": {
    "collapsed": true
   },
   "outputs": [],
   "source": [
    "cet6path=os.path.expanduser(\"~Wesle\\Documents\\GitHub\\ADS_Teaching\\Projects_StarterCodes\\Project1-RNotebook\\data\\cet-6.txt\")\n",
    "cet6path=os.path.normpath(cet6path)\n",
    "cet6=pd.read_table(cet6path)\n",
    "def get_string(thislist):\n",
    "    return thislist[1]\n",
    "cet6=cet6.iloc[:,0].str.split('\"').apply(get_string)"
   ]
  },
  {
   "cell_type": "markdown",
   "metadata": {},
   "source": [
    "### TOEFL & GRE :"
   ]
  },
  {
   "cell_type": "code",
   "execution_count": 11,
   "metadata": {
    "collapsed": true
   },
   "outputs": [],
   "source": [
    "path=os.path.expanduser(\"~Wesle\\Documents\\GitHub\\ADS_Teaching\\Projects_StarterCodes\\Project1-RNotebook\\data\")\n",
    "toefl=path+\"//\"+\"TOEFL.txt\"\n",
    "GRE=path+\"//\"+\"GRE.txt\"\n",
    "with open(GRE,\"br\") as f:\n",
    "    a=f.read().decode(\"utf-8\")\n",
    "GRE=a.split(\"\\r\\n\")\n",
    "GRE = filter(None, GRE)\n",
    "GRE=list(GRE)\n",
    "GRE=[word.replace(\"\\xa0\",\"\")for word in GRE]\n",
    "GRE=[word.replace(\"\\ufeff\",\"\")for word in GRE]"
   ]
  },
  {
   "cell_type": "code",
   "execution_count": 12,
   "metadata": {
    "collapsed": true
   },
   "outputs": [],
   "source": [
    "with open(toefl,\"br\") as f:\n",
    "    a=f.read().decode(\"utf-8\")\n",
    "    TOEFL=a.split(\"\\r\\n\")\n",
    "# print(len(TOEFL))\n",
    "TOEFL = filter(None, TOEFL)\n",
    "TOEFL=list(TOEFL)\n",
    "# print(len(TOEFL))\n",
    "TOEFL=[word.replace(\"\\xa0\",\"\")for word in TOEFL]\n",
    "TOEFL=[word.replace(\" \",\"\")for word in TOEFL]"
   ]
  },
  {
   "cell_type": "markdown",
   "metadata": {},
   "source": [
    "Since thoses lists have overlap, we have to make each word set disjoint by exluding the low-level words form high level word lists\n",
    "The suggested rank of word list are as follows:\n",
    "CET4 < CET6 < TOEFL < GRE"
   ]
  },
  {
   "cell_type": "code",
   "execution_count": 13,
   "metadata": {
    "collapsed": true
   },
   "outputs": [],
   "source": [
    "GREset   =set(GRE)-set(TOEFL)-set(cet6)-set(cet4)\n",
    "TOEFLset =set(TOEFL)-set(cet6)-set(cet4)\n",
    "CET6set  =set(cet6)-set(cet4)\n",
    "CET4set  =set(cet4)"
   ]
  },
  {
   "cell_type": "markdown",
   "metadata": {},
   "source": [
    "### Wiki- 100000: \n",
    "https://gist.github.com/h3xx/1976236/revisions\n",
    " This is a list of the top 100,000 m It was compiled in August 2005 and"
   ]
  },
  {
   "cell_type": "code",
   "execution_count": 14,
   "metadata": {
    "collapsed": true
   },
   "outputs": [],
   "source": [
    "wikipath=os.path.expanduser(\"~Wesle\\Documents\\GitHub\\google-10000-english\\wiki-100k.txt\")\n",
    "wikipath=os.path.normpath(wikipath)\n",
    "assert os.path.exists(wikipath)\n",
    "wiki100k=pd.read_table(wikipath,header= None)\n",
    "wiki100k.drop(wiki100k.index[:26], inplace=True) # the first 26 are empty string \n",
    "wiki100k=wiki100k.iloc[:,0].unique() # get rid of replicate"
   ]
  },
  {
   "cell_type": "code",
   "execution_count": 15,
   "metadata": {},
   "outputs": [
    {
     "data": {
      "text/plain": [
       "84400"
      ]
     },
     "execution_count": 15,
     "metadata": {},
     "output_type": "execute_result"
    }
   ],
   "source": [
    "len(set(wiki100k))"
   ]
  },
  {
   "cell_type": "markdown",
   "metadata": {},
   "source": [
    "## 1.3 word number"
   ]
  },
  {
   "cell_type": "code",
   "execution_count": 16,
   "metadata": {
    "collapsed": true
   },
   "outputs": [],
   "source": [
    "corpusdf=pd.DataFrame([[len(CET4set),\"CET4\"],[len(CET6set),\"CET6\"],[len(TOEFLset),\"TOEFL\"],[len(GREset),\"GRE\"],[len(wiki100k),\"wiki\"]],columns=[\"length\",\"name\"])"
   ]
  },
  {
   "cell_type": "code",
   "execution_count": 17,
   "metadata": {},
   "outputs": [
    {
     "data": {
      "text/html": [
       "<div>\n",
       "<style scoped>\n",
       "    .dataframe tbody tr th:only-of-type {\n",
       "        vertical-align: middle;\n",
       "    }\n",
       "\n",
       "    .dataframe tbody tr th {\n",
       "        vertical-align: top;\n",
       "    }\n",
       "\n",
       "    .dataframe thead th {\n",
       "        text-align: right;\n",
       "    }\n",
       "</style>\n",
       "<table border=\"1\" class=\"dataframe\">\n",
       "  <thead>\n",
       "    <tr style=\"text-align: right;\">\n",
       "      <th></th>\n",
       "      <th>length</th>\n",
       "      <th>name</th>\n",
       "    </tr>\n",
       "  </thead>\n",
       "  <tbody>\n",
       "    <tr>\n",
       "      <th>0</th>\n",
       "      <td>4434</td>\n",
       "      <td>CET4</td>\n",
       "    </tr>\n",
       "    <tr>\n",
       "      <th>1</th>\n",
       "      <td>1123</td>\n",
       "      <td>CET6</td>\n",
       "    </tr>\n",
       "    <tr>\n",
       "      <th>2</th>\n",
       "      <td>1459</td>\n",
       "      <td>TOEFL</td>\n",
       "    </tr>\n",
       "    <tr>\n",
       "      <th>3</th>\n",
       "      <td>5525</td>\n",
       "      <td>GRE</td>\n",
       "    </tr>\n",
       "    <tr>\n",
       "      <th>4</th>\n",
       "      <td>84400</td>\n",
       "      <td>wiki</td>\n",
       "    </tr>\n",
       "  </tbody>\n",
       "</table>\n",
       "</div>"
      ],
      "text/plain": [
       "   length   name\n",
       "0    4434   CET4\n",
       "1    1123   CET6\n",
       "2    1459  TOEFL\n",
       "3    5525    GRE\n",
       "4   84400   wiki"
      ]
     },
     "execution_count": 17,
     "metadata": {},
     "output_type": "execute_result"
    }
   ],
   "source": [
    "corpusdf"
   ]
  },
  {
   "cell_type": "code",
   "execution_count": 18,
   "metadata": {},
   "outputs": [
    {
     "data": {
      "image/png": "[encoded data removed]",
      "text/plain": [
       "<matplotlib.figure.Figure at 0x2af8c356e10>"
      ]
     },
     "metadata": {},
     "output_type": "display_data"
    }
   ],
   "source": [
    "import matplotlib.pyplot as plt; plt.rcdefaults()\n",
    "import numpy as np\n",
    "import matplotlib.pyplot as plt\n",
    " \n",
    "objects = ('CET4', 'CET6', 'TOEFL', 'GRE', 'Wiki')\n",
    "y_pos = np.arange(len(objects))\n",
    "performance = [4126,1123,1459,5525,88401]\n",
    " \n",
    "plt.bar(y_pos, performance, align='center', alpha=0.5)\n",
    "plt.xticks(y_pos, objects)\n",
    "plt.ylabel('Word Count')\n",
    "plt.title('The Total Word Count')\n",
    "plt.show()\n"
   ]
  },
  {
   "cell_type": "markdown",
   "metadata": {},
   "source": [
    "# 2 Parsing and tokenization using spacy"
   ]
  },
  {
   "cell_type": "markdown",
   "metadata": {},
   "source": [
    "## 2.1 token & word & word Chunks \n"
   ]
  },
  {
   "cell_type": "code",
   "execution_count": 19,
   "metadata": {
    "collapsed": true
   },
   "outputs": [],
   "source": [
    "nlp=spacy.load(\"en\")\n",
    "class FileProcessor():\n",
    "   \n",
    "    \n",
    "    ''' we need pandas,spacy to function'''\n",
    "    def __init__(self,name,text):\n",
    "        self.docname=name\n",
    "        self.doc=nlp(text)\n",
    "        self.wordnum=len(self.doc)\n",
    "        self.trivnum=len(self.doc)-len(self.SelectQualified())\n",
    "        \n",
    "    def GetTokenDF(self):\n",
    "        \"\"\"we want to get the whole dataframe with token details with the help of pandas \"\"\"\n",
    "        tokendf=pd.DataFrame(columns=[\"text\",\"lemma\",\"pos\",\"tag\",\"dep\",\"is_stop\"])\n",
    "        for token in self.doc:\n",
    "            tokendf.loc[token.text]=[token.text, token.lemma_ ,token.pos_, token.tag_, token.dep_, token.is_stop]\n",
    "        return tokendf\n",
    "    \n",
    "    def SelectQualified(self):\n",
    "        \"\"\"this is to select qualified words display in dataframe\"\"\"\n",
    "        tokendf=self.GetTokenDF()\n",
    "        sampleset=[\"PROPN\",\"NOUN\",\"VERB\",\"ADJ\",\"ADV\"] # pick only noun verb adj and adv words\n",
    "        Qtoken=tokendf.loc[(tokendf.pos.isin(sampleset))& (tokendf.is_stop == False)] # is_stop  means the trivial words \"of the a\" \n",
    "        return Qtoken\n",
    "    \n",
    "    def GetEntityDF(self):\n",
    "        \"\"\"get entity data frame excluding cardinal and ordinal\"\"\"\n",
    "        entitydf=pd.DataFrame(columns=\"text,start_char,end_char,label\".split(\",\"))\n",
    "        for ent in self.doc.ents:\n",
    "            entitydf.loc[ent.text]=[ent.text, ent.start_char, ent.end_char, ent.label_]\n",
    "            entitydf=entitydf.loc[(entitydf.label!=\"CARDINAL\") & (entitydf.label!=\"ORDINAL\")] # cardinal and ordinal are not what we want\n",
    "        return entitydf\n",
    "    \n",
    "    def GetWordChunkDF(self):\n",
    "        \"\"\"get word chunk  dataframe\"\"\"\n",
    "        samplechunk=pd.DataFrame(columns=\"text, root.text, root.dep_,head.text\".split(\",\"))\n",
    "        for chunk in self.doc.noun_chunks:\n",
    "            samplechunk.loc[chunk.text]=[chunk.text, chunk.root.text, chunk.root.dep_,chunk.root.head.text]\n",
    "        return samplechunk\n",
    "       \n",
    "    def GetAvgDepth(self):\n",
    "        \n",
    "        def getdepth(token):\n",
    "             # if right child exist search right child\n",
    "            if not list(token.children):\n",
    "                return 0\n",
    "            else:\n",
    "                leftmax= 0 if not list(token.lefts) else max([getdepth(i)  for i in token.lefts])\n",
    "            # if left child exist search leftchild\n",
    "                rightmax=0  if not list(token.rights) else max([getdepth(i)  for i in token.rights])\n",
    "                return max(leftmax,rightmax)+1\n",
    "            # if not child return 0\n",
    "            # return the max number\n",
    "        count=0\n",
    "        mydepth=dict()\n",
    "        for token in self.doc:\n",
    "            if token.dep_==\"ROOT\":\n",
    "                # iterating each dep and get the depth\n",
    "                count=count+1\n",
    "                mydepth[count]=getdepth(token)\n",
    "        return(sum(mydepth.values())/count)\n",
    "    def GetAvgSenlen(self):\n",
    "        sentences = [sent.string.strip() for sent in self.doc.sents]\n",
    "        return len(self.doc)/len(sentences)\n",
    "    \n",
    "    def Getall(self):\n",
    "        return pd.DataFrame([[self.wordnum,self.trivnum,len(self.GetEntityDF()),len(self.GetWordChunkDF()),self.GetAvgDepth(),self.GetAvgSenlen()]],\\\n",
    "                            columns=[\"Total words\",\"Trivial words\",\"entities\",\"wordchunk\",\"AvgDepth\",\"AvgLen\"],index=[self.docname]) \n",
    "    \n",
    "        \n",
    "        "
   ]
  },
  {
   "cell_type": "code",
   "execution_count": 20,
   "metadata": {
    "collapsed": true
   },
   "outputs": [],
   "source": [
    "samplespeech=speechdict[list(speechdict.keys())[0]]"
   ]
  },
  {
   "cell_type": "code",
   "execution_count": 21,
   "metadata": {
    "collapsed": true
   },
   "outputs": [],
   "source": [
    "prossessor=FileProcessor(list(speechdict.keys())[0],samplespeech) # build a file processor"
   ]
  },
  {
   "cell_type": "code",
   "execution_count": 22,
   "metadata": {},
   "outputs": [
    {
     "data": {
      "text/html": [
       "<div>\n",
       "<style scoped>\n",
       "    .dataframe tbody tr th:only-of-type {\n",
       "        vertical-align: middle;\n",
       "    }\n",
       "\n",
       "    .dataframe tbody tr th {\n",
       "        vertical-align: top;\n",
       "    }\n",
       "\n",
       "    .dataframe thead th {\n",
       "        text-align: right;\n",
       "    }\n",
       "</style>\n",
       "<table border=\"1\" class=\"dataframe\">\n",
       "  <thead>\n",
       "    <tr style=\"text-align: right;\">\n",
       "      <th></th>\n",
       "      <th>Total words</th>\n",
       "      <th>Trivial words</th>\n",
       "      <th>entities</th>\n",
       "      <th>wordchunk</th>\n",
       "      <th>AvgDepth</th>\n",
       "      <th>AvgLen</th>\n",
       "    </tr>\n",
       "  </thead>\n",
       "  <tbody>\n",
       "    <tr>\n",
       "      <th>inaugAbrahamLincoln-1.txt</th>\n",
       "      <td>4027</td>\n",
       "      <td>3162</td>\n",
       "      <td>40</td>\n",
       "      <td>586</td>\n",
       "      <td>6.157895</td>\n",
       "      <td>30.278195</td>\n",
       "    </tr>\n",
       "  </tbody>\n",
       "</table>\n",
       "</div>"
      ],
      "text/plain": [
       "                           Total words  Trivial words  entities  wordchunk  \\\n",
       "inaugAbrahamLincoln-1.txt         4027           3162        40        586   \n",
       "\n",
       "                           AvgDepth     AvgLen  \n",
       "inaugAbrahamLincoln-1.txt  6.157895  30.278195  "
      ]
     },
     "execution_count": 22,
     "metadata": {},
     "output_type": "execute_result"
    }
   ],
   "source": [
    "prossessor.Getall()"
   ]
  },
  {
   "cell_type": "markdown",
   "metadata": {},
   "source": [
    "# 3 Matching and dictionary annotation"
   ]
  },
  {
   "cell_type": "code",
   "execution_count": 23,
   "metadata": {
    "collapsed": true
   },
   "outputs": [],
   "source": [
    "class WordCount():\n",
    "\n",
    "    def __init__(self):\n",
    "        #cet 4 build dictionary check\n",
    "        cet4matcher =PhraseMatcher(nlp.vocab)\n",
    "        patterns4=[nlp(text) for text in CET4set]\n",
    "        cet4matcher.add('cet4', None, *patterns4)\n",
    "        self.cet4matcher=cet4matcher \n",
    "        \n",
    "        #cet 6 build dictionary check\n",
    "        matcher6=PhraseMatcher(nlp.vocab)\n",
    "        patterns6=[nlp(text) for text in CET6set]\n",
    "        matcher6.add('cet6', None, *patterns6)\n",
    "        self.cet6matcher=matcher6 \n",
    "        \n",
    "        # toefl matcher\n",
    "        matchertoefl=PhraseMatcher(nlp.vocab)\n",
    "        patternstoefl=[nlp(text) for text in TOEFLset]\n",
    "        matchertoefl.add('teofl', None, *patternstoefl)\n",
    "        self.toeflmatcher= matchertoefl\n",
    "        \n",
    "        # gre matcher\n",
    "        matcherGRE=PhraseMatcher(nlp.vocab)\n",
    "        patternsGRE=[nlp(text) for text in GREset]\n",
    "        matchertoefl.add('teofl', None, *patternsGRE)\n",
    "        self.grematcher= matcherGRE\n",
    "          \n",
    "    def get_cet4(self,doc):\n",
    "        return(len(self.cet4matcher(doc)))\n",
    "    \n",
    "    def get_cet6(self,doc):\n",
    "        return(len(self.cet6matcher(doc)))\n",
    "    \n",
    "    def get_gre(self,doc):\n",
    "        return(len(self.grematcher(doc)))\n",
    "    \n",
    "    def get_toefl(self,doc):\n",
    "        return(len(self.toeflmatcher(doc)))  \n",
    "#     def get_all()\n",
    "    def get_cet6_loc(self,doc):\n",
    "        return self.cet6matcher(doc)\n",
    "    def get_toefl_loc(self,doc):\n",
    "        return self.toeflmatcher(doc)\n",
    "    "
   ]
  },
  {
   "cell_type": "code",
   "execution_count": 24,
   "metadata": {},
   "outputs": [
    {
     "name": "stdout",
     "output_type": "stream",
     "text": [
      "Wall time: 3min 46s\n"
     ]
    }
   ],
   "source": [
    "%%time\n",
    "wordcount=WordCount()"
   ]
  },
  {
   "cell_type": "code",
   "execution_count": 25,
   "metadata": {
    "collapsed": true
   },
   "outputs": [],
   "source": [
    "samplename=list(speechdict.keys())[0]"
   ]
  },
  {
   "cell_type": "code",
   "execution_count": 26,
   "metadata": {
    "collapsed": true
   },
   "outputs": [],
   "source": [
    "sampleprocessor=FileProcessor(samplename,samplespeech)"
   ]
  },
  {
   "cell_type": "code",
   "execution_count": 27,
   "metadata": {},
   "outputs": [
    {
     "data": {
      "text/plain": [
       "2646"
      ]
     },
     "execution_count": 27,
     "metadata": {},
     "output_type": "execute_result"
    }
   ],
   "source": [
    "wordcount.get_cet4(sampleprocessor.doc)"
   ]
  },
  {
   "cell_type": "code",
   "execution_count": 28,
   "metadata": {},
   "outputs": [
    {
     "data": {
      "text/plain": [
       "52"
      ]
     },
     "execution_count": 28,
     "metadata": {},
     "output_type": "execute_result"
    }
   ],
   "source": [
    "wordcount.get_cet6(sampleprocessor.doc)"
   ]
  },
  {
   "cell_type": "code",
   "execution_count": 29,
   "metadata": {},
   "outputs": [
    {
     "data": {
      "text/plain": [
       "0"
      ]
     },
     "execution_count": 29,
     "metadata": {},
     "output_type": "execute_result"
    }
   ],
   "source": [
    "wordcount.get_gre(sampleprocessor.doc)"
   ]
  },
  {
   "cell_type": "markdown",
   "metadata": {},
   "source": [
    "# 4  Word Complexity Scoring System\n"
   ]
  },
  {
   "cell_type": "code",
   "execution_count": 30,
   "metadata": {
    "collapsed": true
   },
   "outputs": [],
   "source": [
    "class ScoreGrader():\n",
    "    def __init__(self,freqlist):\n",
    "        score=dict()\n",
    "        for i in range(len(freqlist)):\n",
    "            score[freqlist[i]]=i\n",
    "        self.scoreboard=score\n",
    "        \n",
    "    def get_score(self,df):\n",
    "        \"\"\"input is the data frame \"\"\"\n",
    "        thisscore=0\n",
    "        not_recognized=-1\n",
    "        view=dict()\n",
    "        for i in range(len(df)):\n",
    "            try:\n",
    "                thisscore=thisscore+self.scoreboard[df.iloc[i,1]]\n",
    "            except KeyError as e:\n",
    "                not_recognized = not_recognized+1\n",
    "                view[not_recognized]=str(df.iloc[i,1])\n",
    "                \n",
    "        return thisscore"
   ]
  },
  {
   "cell_type": "code",
   "execution_count": 31,
   "metadata": {
    "collapsed": true
   },
   "outputs": [],
   "source": [
    "thisgrader=ScoreGrader(wiki100k)\n",
    "# len(google1w)"
   ]
  },
  {
   "cell_type": "code",
   "execution_count": 32,
   "metadata": {},
   "outputs": [
    {
     "data": {
      "text/plain": [
       "5495703"
      ]
     },
     "execution_count": 32,
     "metadata": {},
     "output_type": "execute_result"
    }
   ],
   "source": [
    "thisgrader.get_score(sampleprocessor.SelectQualified())"
   ]
  },
  {
   "cell_type": "markdown",
   "metadata": {},
   "source": [
    "# for all speeches"
   ]
  },
  {
   "cell_type": "code",
   "execution_count": 33,
   "metadata": {
    "collapsed": true
   },
   "outputs": [],
   "source": [
    "# load the model\n",
    "nlp=spacy.load(\"en\")"
   ]
  },
  {
   "cell_type": "code",
   "execution_count": 34,
   "metadata": {},
   "outputs": [
    {
     "name": "stdout",
     "output_type": "stream",
     "text": [
      "Wall time: 3min 55s\n"
     ]
    }
   ],
   "source": [
    "%%time\n",
    "#get a wordcount\n",
    "wordcount=WordCount()"
   ]
  },
  {
   "cell_type": "code",
   "execution_count": 39,
   "metadata": {},
   "outputs": [
    {
     "name": "stdout",
     "output_type": "stream",
     "text": [
      "Wall time: 37.3 ms\n"
     ]
    }
   ],
   "source": [
    "%%time\n",
    "# get a grader\n",
    "grader=ScoreGrader(wiki100k)"
   ]
  },
  {
   "cell_type": "code",
   "execution_count": 40,
   "metadata": {
    "collapsed": true
   },
   "outputs": [],
   "source": [
    "\n",
    "grammainfo=pd.DataFrame(columns=[\"Total words\",\"Trivial words\",\"entities\",\"wordchunk\",\"AvgDepth\",\"AvgLen\"]) # store the information \n",
    "wordcountinfo=pd.DataFrame(columns=[\"cet4\",\"cet6\",\"toefl\",\"GRE\",\"score\"]) # store for word count\n",
    "\n",
    "\n",
    "for docname,text in speechdict.items():\n",
    "    thisprocessor=FileProcessor(docname,text) # each file need a specific word processor\n",
    "    grammainfo=grammainfo.append(thisprocessor.Getall())\n",
    "    doc=thisprocessor.doc\n",
    "    Qwords=thisprocessor.SelectQualified()\n",
    "    wordcountinfo.loc[docname]=[wordcount.get_cet4(doc),wordcount.get_cet6(doc),wordcount.get_toefl(doc),wordcount.get_gre(doc),grader.get_score(Qwords)]\n",
    "\n"
   ]
  },
  {
   "cell_type": "code",
   "execution_count": 41,
   "metadata": {},
   "outputs": [
    {
     "data": {
      "text/html": [
       "<div>\n",
       "<style scoped>\n",
       "    .dataframe tbody tr th:only-of-type {\n",
       "        vertical-align: middle;\n",
       "    }\n",
       "\n",
       "    .dataframe tbody tr th {\n",
       "        vertical-align: top;\n",
       "    }\n",
       "\n",
       "    .dataframe thead th {\n",
       "        text-align: right;\n",
       "    }\n",
       "</style>\n",
       "<table border=\"1\" class=\"dataframe\">\n",
       "  <thead>\n",
       "    <tr style=\"text-align: right;\">\n",
       "      <th></th>\n",
       "      <th>cet4</th>\n",
       "      <th>cet6</th>\n",
       "      <th>toefl</th>\n",
       "      <th>GRE</th>\n",
       "      <th>score</th>\n",
       "    </tr>\n",
       "  </thead>\n",
       "  <tbody>\n",
       "    <tr>\n",
       "      <th>inaugAbrahamLincoln-2.txt</th>\n",
       "      <td>497</td>\n",
       "      <td>11</td>\n",
       "      <td>18</td>\n",
       "      <td>0</td>\n",
       "      <td>1316541</td>\n",
       "    </tr>\n",
       "    <tr>\n",
       "      <th>inaugAndrewJackson-1.txt</th>\n",
       "      <td>828</td>\n",
       "      <td>17</td>\n",
       "      <td>48</td>\n",
       "      <td>0</td>\n",
       "      <td>2775294</td>\n",
       "    </tr>\n",
       "    <tr>\n",
       "      <th>inaugAndrewJackson-2.txt</th>\n",
       "      <td>852</td>\n",
       "      <td>11</td>\n",
       "      <td>34</td>\n",
       "      <td>0</td>\n",
       "      <td>2248573</td>\n",
       "    </tr>\n",
       "    <tr>\n",
       "      <th>inaugBarackObama-1.txt</th>\n",
       "      <td>1756</td>\n",
       "      <td>18</td>\n",
       "      <td>35</td>\n",
       "      <td>0</td>\n",
       "      <td>4379315</td>\n",
       "    </tr>\n",
       "    <tr>\n",
       "      <th>inaugBarackObama-2.txt</th>\n",
       "      <td>1552</td>\n",
       "      <td>21</td>\n",
       "      <td>42</td>\n",
       "      <td>0</td>\n",
       "      <td>3756031</td>\n",
       "    </tr>\n",
       "    <tr>\n",
       "      <th>inaugBenjaminHarrison-1.txt</th>\n",
       "      <td>3161</td>\n",
       "      <td>49</td>\n",
       "      <td>120</td>\n",
       "      <td>0</td>\n",
       "      <td>8689641</td>\n",
       "    </tr>\n",
       "    <tr>\n",
       "      <th>inaugCalvinCoolidge-1.txt</th>\n",
       "      <td>2929</td>\n",
       "      <td>55</td>\n",
       "      <td>100</td>\n",
       "      <td>0</td>\n",
       "      <td>6819082</td>\n",
       "    </tr>\n",
       "    <tr>\n",
       "      <th>inaugDonaldJTrump-1.txt</th>\n",
       "      <td>1033</td>\n",
       "      <td>7</td>\n",
       "      <td>19</td>\n",
       "      <td>0</td>\n",
       "      <td>2265206</td>\n",
       "    </tr>\n",
       "    <tr>\n",
       "      <th>inaugDwightDEisenhower-1.txt</th>\n",
       "      <td>1809</td>\n",
       "      <td>38</td>\n",
       "      <td>61</td>\n",
       "      <td>0</td>\n",
       "      <td>5115561</td>\n",
       "    </tr>\n",
       "  </tbody>\n",
       "</table>\n",
       "</div>"
      ],
      "text/plain": [
       "                              cet4 cet6 toefl GRE    score\n",
       "inaugAbrahamLincoln-2.txt      497   11    18   0  1316541\n",
       "inaugAndrewJackson-1.txt       828   17    48   0  2775294\n",
       "inaugAndrewJackson-2.txt       852   11    34   0  2248573\n",
       "inaugBarackObama-1.txt        1756   18    35   0  4379315\n",
       "inaugBarackObama-2.txt        1552   21    42   0  3756031\n",
       "inaugBenjaminHarrison-1.txt   3161   49   120   0  8689641\n",
       "inaugCalvinCoolidge-1.txt     2929   55   100   0  6819082\n",
       "inaugDonaldJTrump-1.txt       1033    7    19   0  2265206\n",
       "inaugDwightDEisenhower-1.txt  1809   38    61   0  5115561"
      ]
     },
     "execution_count": 41,
     "metadata": {},
     "output_type": "execute_result"
    }
   ],
   "source": [
    "wordcountinfo[1:10]"
   ]
  },
  {
   "cell_type": "code",
   "execution_count": 42,
   "metadata": {},
   "outputs": [
    {
     "data": {
      "text/html": [
       "<div>\n",
       "<style scoped>\n",
       "    .dataframe tbody tr th:only-of-type {\n",
       "        vertical-align: middle;\n",
       "    }\n",
       "\n",
       "    .dataframe tbody tr th {\n",
       "        vertical-align: top;\n",
       "    }\n",
       "\n",
       "    .dataframe thead th {\n",
       "        text-align: right;\n",
       "    }\n",
       "</style>\n",
       "<table border=\"1\" class=\"dataframe\">\n",
       "  <thead>\n",
       "    <tr style=\"text-align: right;\">\n",
       "      <th></th>\n",
       "      <th>Total words</th>\n",
       "      <th>Trivial words</th>\n",
       "      <th>entities</th>\n",
       "      <th>wordchunk</th>\n",
       "      <th>AvgDepth</th>\n",
       "      <th>AvgLen</th>\n",
       "    </tr>\n",
       "  </thead>\n",
       "  <tbody>\n",
       "    <tr>\n",
       "      <th>inaugAbrahamLincoln-2.txt</th>\n",
       "      <td>782</td>\n",
       "      <td>557</td>\n",
       "      <td>10</td>\n",
       "      <td>121</td>\n",
       "      <td>5.730769</td>\n",
       "      <td>30.076923</td>\n",
       "    </tr>\n",
       "    <tr>\n",
       "      <th>inaugAndrewJackson-1.txt</th>\n",
       "      <td>1215</td>\n",
       "      <td>803</td>\n",
       "      <td>12</td>\n",
       "      <td>252</td>\n",
       "      <td>8.615385</td>\n",
       "      <td>46.730769</td>\n",
       "    </tr>\n",
       "    <tr>\n",
       "      <th>inaugAndrewJackson-2.txt</th>\n",
       "      <td>1276</td>\n",
       "      <td>910</td>\n",
       "      <td>12</td>\n",
       "      <td>255</td>\n",
       "      <td>8.258065</td>\n",
       "      <td>41.161290</td>\n",
       "    </tr>\n",
       "    <tr>\n",
       "      <th>inaugBarackObama-1.txt</th>\n",
       "      <td>2709</td>\n",
       "      <td>1955</td>\n",
       "      <td>40</td>\n",
       "      <td>478</td>\n",
       "      <td>5.285714</td>\n",
       "      <td>22.764706</td>\n",
       "    </tr>\n",
       "    <tr>\n",
       "      <th>inaugBarackObama-2.txt</th>\n",
       "      <td>2362</td>\n",
       "      <td>1713</td>\n",
       "      <td>33</td>\n",
       "      <td>427</td>\n",
       "      <td>5.946237</td>\n",
       "      <td>25.397849</td>\n",
       "    </tr>\n",
       "    <tr>\n",
       "      <th>inaugBenjaminHarrison-1.txt</th>\n",
       "      <td>4748</td>\n",
       "      <td>3597</td>\n",
       "      <td>50</td>\n",
       "      <td>863</td>\n",
       "      <td>6.917722</td>\n",
       "      <td>30.050633</td>\n",
       "    </tr>\n",
       "    <tr>\n",
       "      <th>inaugCalvinCoolidge-1.txt</th>\n",
       "      <td>4442</td>\n",
       "      <td>3418</td>\n",
       "      <td>28</td>\n",
       "      <td>738</td>\n",
       "      <td>5.739796</td>\n",
       "      <td>22.663265</td>\n",
       "    </tr>\n",
       "    <tr>\n",
       "      <th>inaugDonaldJTrump-1.txt</th>\n",
       "      <td>1708</td>\n",
       "      <td>1275</td>\n",
       "      <td>25</td>\n",
       "      <td>285</td>\n",
       "      <td>3.929293</td>\n",
       "      <td>17.252525</td>\n",
       "    </tr>\n",
       "    <tr>\n",
       "      <th>inaugDwightDEisenhower-1.txt</th>\n",
       "      <td>2763</td>\n",
       "      <td>2025</td>\n",
       "      <td>38</td>\n",
       "      <td>543</td>\n",
       "      <td>5.446154</td>\n",
       "      <td>21.253846</td>\n",
       "    </tr>\n",
       "  </tbody>\n",
       "</table>\n",
       "</div>"
      ],
      "text/plain": [
       "                             Total words Trivial words entities wordchunk  \\\n",
       "inaugAbrahamLincoln-2.txt            782           557       10       121   \n",
       "inaugAndrewJackson-1.txt            1215           803       12       252   \n",
       "inaugAndrewJackson-2.txt            1276           910       12       255   \n",
       "inaugBarackObama-1.txt              2709          1955       40       478   \n",
       "inaugBarackObama-2.txt              2362          1713       33       427   \n",
       "inaugBenjaminHarrison-1.txt         4748          3597       50       863   \n",
       "inaugCalvinCoolidge-1.txt           4442          3418       28       738   \n",
       "inaugDonaldJTrump-1.txt             1708          1275       25       285   \n",
       "inaugDwightDEisenhower-1.txt        2763          2025       38       543   \n",
       "\n",
       "                              AvgDepth     AvgLen  \n",
       "inaugAbrahamLincoln-2.txt     5.730769  30.076923  \n",
       "inaugAndrewJackson-1.txt      8.615385  46.730769  \n",
       "inaugAndrewJackson-2.txt      8.258065  41.161290  \n",
       "inaugBarackObama-1.txt        5.285714  22.764706  \n",
       "inaugBarackObama-2.txt        5.946237  25.397849  \n",
       "inaugBenjaminHarrison-1.txt   6.917722  30.050633  \n",
       "inaugCalvinCoolidge-1.txt     5.739796  22.663265  \n",
       "inaugDonaldJTrump-1.txt       3.929293  17.252525  \n",
       "inaugDwightDEisenhower-1.txt  5.446154  21.253846  "
      ]
     },
     "execution_count": 42,
     "metadata": {},
     "output_type": "execute_result"
    }
   ],
   "source": [
    "grammainfo[1:10]"
   ]
  },
  {
   "cell_type": "code",
   "execution_count": 43,
   "metadata": {},
   "outputs": [
    {
     "data": {
      "text/html": [
       "<div>\n",
       "<style scoped>\n",
       "    .dataframe tbody tr th:only-of-type {\n",
       "        vertical-align: middle;\n",
       "    }\n",
       "\n",
       "    .dataframe tbody tr th {\n",
       "        vertical-align: top;\n",
       "    }\n",
       "\n",
       "    .dataframe thead th {\n",
       "        text-align: right;\n",
       "    }\n",
       "</style>\n",
       "<table border=\"1\" class=\"dataframe\">\n",
       "  <thead>\n",
       "    <tr style=\"text-align: right;\">\n",
       "      <th></th>\n",
       "      <th>File</th>\n",
       "      <th>Term</th>\n",
       "      <th>Party</th>\n",
       "      <th>Words</th>\n",
       "      <th>date</th>\n",
       "    </tr>\n",
       "    <tr>\n",
       "      <th>President</th>\n",
       "      <th></th>\n",
       "      <th></th>\n",
       "      <th></th>\n",
       "      <th></th>\n",
       "      <th></th>\n",
       "    </tr>\n",
       "  </thead>\n",
       "  <tbody>\n",
       "    <tr>\n",
       "      <th>George Washington</th>\n",
       "      <td>GeorgeWashington</td>\n",
       "      <td>1</td>\n",
       "      <td>NaN</td>\n",
       "      <td>1431</td>\n",
       "      <td>4/30/1789</td>\n",
       "    </tr>\n",
       "    <tr>\n",
       "      <th>George Washington</th>\n",
       "      <td>GeorgeWashington</td>\n",
       "      <td>2</td>\n",
       "      <td>NaN</td>\n",
       "      <td>135</td>\n",
       "      <td>3/4/1793</td>\n",
       "    </tr>\n",
       "    <tr>\n",
       "      <th>John Adams</th>\n",
       "      <td>JohnAdams</td>\n",
       "      <td>1</td>\n",
       "      <td>Fedralist</td>\n",
       "      <td>2321</td>\n",
       "      <td>3/4/1797</td>\n",
       "    </tr>\n",
       "    <tr>\n",
       "      <th>Thomas Jefferson</th>\n",
       "      <td>ThomasJefferson</td>\n",
       "      <td>1</td>\n",
       "      <td>Democratic-Republican Party</td>\n",
       "      <td>1730</td>\n",
       "      <td>3/4/1801</td>\n",
       "    </tr>\n",
       "    <tr>\n",
       "      <th>Thomas Jefferson</th>\n",
       "      <td>ThomasJefferson</td>\n",
       "      <td>2</td>\n",
       "      <td>Democratic-Republican Party</td>\n",
       "      <td>2166</td>\n",
       "      <td>3/4/1805</td>\n",
       "    </tr>\n",
       "    <tr>\n",
       "      <th>James Madison</th>\n",
       "      <td>JamesMadison</td>\n",
       "      <td>1</td>\n",
       "      <td>Democratic-Republican Party</td>\n",
       "      <td>1177</td>\n",
       "      <td>3/4/1809</td>\n",
       "    </tr>\n",
       "    <tr>\n",
       "      <th>James Madison</th>\n",
       "      <td>JamesMadison</td>\n",
       "      <td>2</td>\n",
       "      <td>Democratic-Republican Party</td>\n",
       "      <td>1211</td>\n",
       "      <td>3/4/1813</td>\n",
       "    </tr>\n",
       "    <tr>\n",
       "      <th>James Monroe</th>\n",
       "      <td>JamesMonroe</td>\n",
       "      <td>1</td>\n",
       "      <td>Democratic-Republican Party</td>\n",
       "      <td>3375</td>\n",
       "      <td>3/4/1817</td>\n",
       "    </tr>\n",
       "    <tr>\n",
       "      <th>James Monroe</th>\n",
       "      <td>JamesMonroe</td>\n",
       "      <td>2</td>\n",
       "      <td>Democratic-Republican Party</td>\n",
       "      <td>4472</td>\n",
       "      <td>3/5/1821</td>\n",
       "    </tr>\n",
       "    <tr>\n",
       "      <th>John Quincy Adams</th>\n",
       "      <td>JohnQuincyAdams</td>\n",
       "      <td>1</td>\n",
       "      <td>Democratic-Republican Party</td>\n",
       "      <td>2915</td>\n",
       "      <td>3/4/1825</td>\n",
       "    </tr>\n",
       "  </tbody>\n",
       "</table>\n",
       "</div>"
      ],
      "text/plain": [
       "                               File Term                        Party Words  \\\n",
       "President                                                                     \n",
       "George Washington  GeorgeWashington    1                          NaN  1431   \n",
       "George Washington  GeorgeWashington    2                          NaN   135   \n",
       "John Adams                JohnAdams    1                    Fedralist  2321   \n",
       "Thomas Jefferson    ThomasJefferson    1  Democratic-Republican Party  1730   \n",
       "Thomas Jefferson    ThomasJefferson    2  Democratic-Republican Party  2166   \n",
       "James Madison          JamesMadison    1  Democratic-Republican Party  1177   \n",
       "James Madison          JamesMadison    2  Democratic-Republican Party  1211   \n",
       "James Monroe            JamesMonroe    1  Democratic-Republican Party  3375   \n",
       "James Monroe            JamesMonroe    2  Democratic-Republican Party  4472   \n",
       "John Quincy Adams   JohnQuincyAdams    1  Democratic-Republican Party  2915   \n",
       "\n",
       "                        date  \n",
       "President                     \n",
       "George Washington  4/30/1789  \n",
       "George Washington   3/4/1793  \n",
       "John Adams          3/4/1797  \n",
       "Thomas Jefferson    3/4/1801  \n",
       "Thomas Jefferson    3/4/1805  \n",
       "James Madison       3/4/1809  \n",
       "James Madison       3/4/1813  \n",
       "James Monroe        3/4/1817  \n",
       "James Monroe        3/5/1821  \n",
       "John Quincy Adams   3/4/1825  "
      ]
     },
     "execution_count": 43,
     "metadata": {},
     "output_type": "execute_result"
    }
   ],
   "source": [
    "mergeddata[0:10]"
   ]
  },
  {
   "cell_type": "code",
   "execution_count": 45,
   "metadata": {
    "collapsed": true
   },
   "outputs": [],
   "source": [
    "allweneed=pd.concat([grammainfo,wordcountinfo],axis=1)"
   ]
  },
  {
   "cell_type": "code",
   "execution_count": 81,
   "metadata": {},
   "outputs": [
    {
     "data": {
      "text/html": [
       "<div>\n",
       "<style scoped>\n",
       "    .dataframe tbody tr th:only-of-type {\n",
       "        vertical-align: middle;\n",
       "    }\n",
       "\n",
       "    .dataframe tbody tr th {\n",
       "        vertical-align: top;\n",
       "    }\n",
       "\n",
       "    .dataframe thead th {\n",
       "        text-align: right;\n",
       "    }\n",
       "</style>\n",
       "<table border=\"1\" class=\"dataframe\">\n",
       "  <thead>\n",
       "    <tr style=\"text-align: right;\">\n",
       "      <th></th>\n",
       "      <th>Total words</th>\n",
       "      <th>Trivial words</th>\n",
       "      <th>entities</th>\n",
       "      <th>wordchunk</th>\n",
       "      <th>AvgDepth</th>\n",
       "      <th>AvgLen</th>\n",
       "      <th>cet4</th>\n",
       "      <th>cet6</th>\n",
       "      <th>toefl</th>\n",
       "      <th>GRE</th>\n",
       "      <th>score</th>\n",
       "    </tr>\n",
       "  </thead>\n",
       "  <tbody>\n",
       "    <tr>\n",
       "      <th>inaugAbrahamLincoln-1.txt</th>\n",
       "      <td>4027</td>\n",
       "      <td>3162</td>\n",
       "      <td>40</td>\n",
       "      <td>586</td>\n",
       "      <td>6.157895</td>\n",
       "      <td>30.278195</td>\n",
       "      <td>2646</td>\n",
       "      <td>52</td>\n",
       "      <td>104</td>\n",
       "      <td>0</td>\n",
       "      <td>5495703</td>\n",
       "    </tr>\n",
       "    <tr>\n",
       "      <th>inaugAbrahamLincoln-2.txt</th>\n",
       "      <td>782</td>\n",
       "      <td>557</td>\n",
       "      <td>10</td>\n",
       "      <td>121</td>\n",
       "      <td>5.730769</td>\n",
       "      <td>30.076923</td>\n",
       "      <td>497</td>\n",
       "      <td>11</td>\n",
       "      <td>18</td>\n",
       "      <td>0</td>\n",
       "      <td>1316541</td>\n",
       "    </tr>\n",
       "    <tr>\n",
       "      <th>inaugAndrewJackson-1.txt</th>\n",
       "      <td>1215</td>\n",
       "      <td>803</td>\n",
       "      <td>12</td>\n",
       "      <td>252</td>\n",
       "      <td>8.615385</td>\n",
       "      <td>46.730769</td>\n",
       "      <td>828</td>\n",
       "      <td>17</td>\n",
       "      <td>48</td>\n",
       "      <td>0</td>\n",
       "      <td>2775294</td>\n",
       "    </tr>\n",
       "    <tr>\n",
       "      <th>inaugAndrewJackson-2.txt</th>\n",
       "      <td>1276</td>\n",
       "      <td>910</td>\n",
       "      <td>12</td>\n",
       "      <td>255</td>\n",
       "      <td>8.258065</td>\n",
       "      <td>41.161290</td>\n",
       "      <td>852</td>\n",
       "      <td>11</td>\n",
       "      <td>34</td>\n",
       "      <td>0</td>\n",
       "      <td>2248573</td>\n",
       "    </tr>\n",
       "    <tr>\n",
       "      <th>inaugBarackObama-1.txt</th>\n",
       "      <td>2709</td>\n",
       "      <td>1955</td>\n",
       "      <td>40</td>\n",
       "      <td>478</td>\n",
       "      <td>5.285714</td>\n",
       "      <td>22.764706</td>\n",
       "      <td>1756</td>\n",
       "      <td>18</td>\n",
       "      <td>35</td>\n",
       "      <td>0</td>\n",
       "      <td>4379315</td>\n",
       "    </tr>\n",
       "    <tr>\n",
       "      <th>inaugBarackObama-2.txt</th>\n",
       "      <td>2362</td>\n",
       "      <td>1713</td>\n",
       "      <td>33</td>\n",
       "      <td>427</td>\n",
       "      <td>5.946237</td>\n",
       "      <td>25.397849</td>\n",
       "      <td>1552</td>\n",
       "      <td>21</td>\n",
       "      <td>42</td>\n",
       "      <td>0</td>\n",
       "      <td>3756031</td>\n",
       "    </tr>\n",
       "    <tr>\n",
       "      <th>inaugBenjaminHarrison-1.txt</th>\n",
       "      <td>4748</td>\n",
       "      <td>3597</td>\n",
       "      <td>50</td>\n",
       "      <td>863</td>\n",
       "      <td>6.917722</td>\n",
       "      <td>30.050633</td>\n",
       "      <td>3161</td>\n",
       "      <td>49</td>\n",
       "      <td>120</td>\n",
       "      <td>0</td>\n",
       "      <td>8689641</td>\n",
       "    </tr>\n",
       "    <tr>\n",
       "      <th>inaugCalvinCoolidge-1.txt</th>\n",
       "      <td>4442</td>\n",
       "      <td>3418</td>\n",
       "      <td>28</td>\n",
       "      <td>738</td>\n",
       "      <td>5.739796</td>\n",
       "      <td>22.663265</td>\n",
       "      <td>2929</td>\n",
       "      <td>55</td>\n",
       "      <td>100</td>\n",
       "      <td>0</td>\n",
       "      <td>6819082</td>\n",
       "    </tr>\n",
       "    <tr>\n",
       "      <th>inaugDonaldJTrump-1.txt</th>\n",
       "      <td>1708</td>\n",
       "      <td>1275</td>\n",
       "      <td>25</td>\n",
       "      <td>285</td>\n",
       "      <td>3.929293</td>\n",
       "      <td>17.252525</td>\n",
       "      <td>1033</td>\n",
       "      <td>7</td>\n",
       "      <td>19</td>\n",
       "      <td>0</td>\n",
       "      <td>2265206</td>\n",
       "    </tr>\n",
       "    <tr>\n",
       "      <th>inaugDwightDEisenhower-1.txt</th>\n",
       "      <td>2763</td>\n",
       "      <td>2025</td>\n",
       "      <td>38</td>\n",
       "      <td>543</td>\n",
       "      <td>5.446154</td>\n",
       "      <td>21.253846</td>\n",
       "      <td>1809</td>\n",
       "      <td>38</td>\n",
       "      <td>61</td>\n",
       "      <td>0</td>\n",
       "      <td>5115561</td>\n",
       "    </tr>\n",
       "  </tbody>\n",
       "</table>\n",
       "</div>"
      ],
      "text/plain": [
       "                             Total words Trivial words entities wordchunk  \\\n",
       "inaugAbrahamLincoln-1.txt           4027          3162       40       586   \n",
       "inaugAbrahamLincoln-2.txt            782           557       10       121   \n",
       "inaugAndrewJackson-1.txt            1215           803       12       252   \n",
       "inaugAndrewJackson-2.txt            1276           910       12       255   \n",
       "inaugBarackObama-1.txt              2709          1955       40       478   \n",
       "inaugBarackObama-2.txt              2362          1713       33       427   \n",
       "inaugBenjaminHarrison-1.txt         4748          3597       50       863   \n",
       "inaugCalvinCoolidge-1.txt           4442          3418       28       738   \n",
       "inaugDonaldJTrump-1.txt             1708          1275       25       285   \n",
       "inaugDwightDEisenhower-1.txt        2763          2025       38       543   \n",
       "\n",
       "                              AvgDepth     AvgLen  cet4 cet6 toefl GRE  \\\n",
       "inaugAbrahamLincoln-1.txt     6.157895  30.278195  2646   52   104   0   \n",
       "inaugAbrahamLincoln-2.txt     5.730769  30.076923   497   11    18   0   \n",
       "inaugAndrewJackson-1.txt      8.615385  46.730769   828   17    48   0   \n",
       "inaugAndrewJackson-2.txt      8.258065  41.161290   852   11    34   0   \n",
       "inaugBarackObama-1.txt        5.285714  22.764706  1756   18    35   0   \n",
       "inaugBarackObama-2.txt        5.946237  25.397849  1552   21    42   0   \n",
       "inaugBenjaminHarrison-1.txt   6.917722  30.050633  3161   49   120   0   \n",
       "inaugCalvinCoolidge-1.txt     5.739796  22.663265  2929   55   100   0   \n",
       "inaugDonaldJTrump-1.txt       3.929293  17.252525  1033    7    19   0   \n",
       "inaugDwightDEisenhower-1.txt  5.446154  21.253846  1809   38    61   0   \n",
       "\n",
       "                                score  \n",
       "inaugAbrahamLincoln-1.txt     5495703  \n",
       "inaugAbrahamLincoln-2.txt     1316541  \n",
       "inaugAndrewJackson-1.txt      2775294  \n",
       "inaugAndrewJackson-2.txt      2248573  \n",
       "inaugBarackObama-1.txt        4379315  \n",
       "inaugBarackObama-2.txt        3756031  \n",
       "inaugBenjaminHarrison-1.txt   8689641  \n",
       "inaugCalvinCoolidge-1.txt     6819082  \n",
       "inaugDonaldJTrump-1.txt       2265206  \n",
       "inaugDwightDEisenhower-1.txt  5115561  "
      ]
     },
     "execution_count": 81,
     "metadata": {},
     "output_type": "execute_result"
    }
   ],
   "source": [
    "allweneed[0:10]"
   ]
  },
  {
   "cell_type": "code",
   "execution_count": 86,
   "metadata": {
    "collapsed": true
   },
   "outputs": [],
   "source": [
    "thisindex=[filename.replace(\"inaug\",\"\")  for filename in list(allweneed.index)]\n",
    "thisindex=[filename.replace(\".txt\",\"\") for filename in thisindex]\n",
    "thisindex=[filename.split(\"-\") for filename in thisindex]\n",
    "filenames=[x[0] for x in thisindex]\n",
    "term=[x[1] for x in thisindex]"
   ]
  },
  {
   "cell_type": "code",
   "execution_count": 87,
   "metadata": {},
   "outputs": [
    {
     "name": "stderr",
     "output_type": "stream",
     "text": [
      "C:\\Wesley_Tao\\6.Software\\Anaconda\\lib\\site-packages\\ipykernel_launcher.py:1: SettingWithCopyWarning: \n",
      "A value is trying to be set on a copy of a slice from a DataFrame.\n",
      "Try using .loc[row_indexer,col_indexer] = value instead\n",
      "\n",
      "See the caveats in the documentation: http://pandas.pydata.org/pandas-docs/stable/indexing.html#indexing-view-versus-copy\n",
      "  \"\"\"Entry point for launching an IPython kernel.\n",
      "C:\\Wesley_Tao\\6.Software\\Anaconda\\lib\\site-packages\\ipykernel_launcher.py:2: SettingWithCopyWarning: \n",
      "A value is trying to be set on a copy of a slice from a DataFrame.\n",
      "Try using .loc[row_indexer,col_indexer] = value instead\n",
      "\n",
      "See the caveats in the documentation: http://pandas.pydata.org/pandas-docs/stable/indexing.html#indexing-view-versus-copy\n",
      "  \n"
     ]
    }
   ],
   "source": [
    "allweneed['File'] = pd.Series(filenames, index=allweneed.index)\n",
    "allweneed['Term'] = pd.Series(term, index=allweneed.index)"
   ]
  },
  {
   "cell_type": "code",
   "execution_count": 140,
   "metadata": {
    "collapsed": true
   },
   "outputs": [],
   "source": [
    "allweneed=allweneed.sort_values(by=[\"File\",\"Term\"])"
   ]
  },
  {
   "cell_type": "code",
   "execution_count": 141,
   "metadata": {
    "collapsed": true
   },
   "outputs": [],
   "source": [
    "mergeddata=mergeddata.sort_values(by=[\"File\",\"Term\"])"
   ]
  },
  {
   "cell_type": "code",
   "execution_count": 149,
   "metadata": {
    "collapsed": true
   },
   "outputs": [],
   "source": [
    "mergeddata=mergeddata.reset_index()"
   ]
  },
  {
   "cell_type": "code",
   "execution_count": 148,
   "metadata": {
    "collapsed": true
   },
   "outputs": [],
   "source": [
    "allweneed=allweneed.reset_index()"
   ]
  },
  {
   "cell_type": "code",
   "execution_count": 153,
   "metadata": {
    "collapsed": true
   },
   "outputs": [],
   "source": [
    "wordcountpath=os.path.expanduser(\"~Wesle\\Documents\\GitHub\\ADS_Teaching\\Projects_StarterCodes\\Project1-RNotebook\\data\\complexity.csv\")\n",
    "wordcountpath=os.path.normpath(wordcountpath)\n",
    "allweneed.to_csv(wordcountpath)"
   ]
  },
  {
   "cell_type": "code",
   "execution_count": 154,
   "metadata": {
    "collapsed": true
   },
   "outputs": [],
   "source": [
    "date=os.path.expanduser(\"~Wesle\\Documents\\GitHub\\ADS_Teaching\\Projects_StarterCodes\\Project1-RNotebook\\data\\date2.csv\")\n",
    "date=os.path.normpath(date)\n",
    "mergeddata.to_csv(date)"
   ]
  },
  {
   "cell_type": "markdown",
   "metadata": {},
   "source": [
    "# Annotation Display"
   ]
  },
  {
   "cell_type": "code",
   "execution_count": 293,
   "metadata": {
    "collapsed": true
   },
   "outputs": [],
   "source": [
    "wordcount=WordCount()"
   ]
  },
  {
   "cell_type": "code",
   "execution_count": 334,
   "metadata": {
    "collapsed": true
   },
   "outputs": [],
   "source": [
    "from spacy.tokens import Span\n",
    "\n",
    "doc = nlp(samplespeech)\n",
    "# the model didn't recognise any entities :(\n",
    "CET6 = doc.vocab.strings[u'CET6'] \n",
    "toefl = doc.vocab.strings[u\"toefl\"]\n",
    "\n",
    "wordloc6=wordcount.get_cet6_loc(doc)\n",
    "wordloct=wordcount.get_toefl_loc(doc)"
   ]
  },
  {
   "cell_type": "code",
   "execution_count": 337,
   "metadata": {
    "collapsed": true
   },
   "outputs": [],
   "source": [
    "\n",
    "allent=list()\n",
    "for index,start,end in wordloc6:\n",
    "    this_ent = Span(doc, start, end, label= GRE)\n",
    "    allent.append(this_ent)\n",
    "    \n",
    "doc.ents = allent"
   ]
  },
  {
   "cell_type": "code",
   "execution_count": 338,
   "metadata": {},
   "outputs": [
    {
     "data": {
      "text/html": [
       "<div class=\"entities\" style=\"line-height: 2.5\"> Fellow-Citizens of the United States:In compliance with a custom as old as the Government itself, I appear before you to address you briefly and to take in your presence the \n",
       "<mark class=\"entity\" style=\"background: #ddd; padding: 0.45em 0.6em; margin: 0 0.25em; line-height: 1; border-radius: 0.35em; box-decoration-break: clone; -webkit-box-decoration-break: clone\">\n",
       "    oath\n",
       "    <span style=\"font-size: 0.8em; font-weight: bold; line-height: 1; border-radius: 0.35em; text-transform: uppercase; vertical-align: middle; margin-left: 0.5rem\">GRE</span>\n",
       "</mark>\n",
       " prescribed by the Constitution of the United States to be taken by the President \"before he enters on the \n",
       "<mark class=\"entity\" style=\"background: #ddd; padding: 0.45em 0.6em; margin: 0 0.25em; line-height: 1; border-radius: 0.35em; box-decoration-break: clone; -webkit-box-decoration-break: clone\">\n",
       "    execution\n",
       "    <span style=\"font-size: 0.8em; font-weight: bold; line-height: 1; border-radius: 0.35em; text-transform: uppercase; vertical-align: middle; margin-left: 0.5rem\">GRE</span>\n",
       "</mark>\n",
       " of this office.\"I do not consider it necessary at present for me to discuss those matters of administration about which there is no special anxiety or excitement.Apprehension seems to exist among the people of the Southern States that by the accession of a Republican Administration their property and their peace and personal security are to be endangered. There has never been any reasonable cause for such apprehension. Indeed, the most \n",
       "<mark class=\"entity\" style=\"background: #ddd; padding: 0.45em 0.6em; margin: 0 0.25em; line-height: 1; border-radius: 0.35em; box-decoration-break: clone; -webkit-box-decoration-break: clone\">\n",
       "    ample\n",
       "    <span style=\"font-size: 0.8em; font-weight: bold; line-height: 1; border-radius: 0.35em; text-transform: uppercase; vertical-align: middle; margin-left: 0.5rem\">GRE</span>\n",
       "</mark>\n",
       " evidence to the contrary has all the while existed and been open to their inspection. It is found in nearly all the published speeches of him who now addresses you. I do but quote from one of those speeches when I declare that--I have no purpose, directly or indirectly, to interfere with the institution of slavery in the States where it exists. I believe I have no lawful right to do so, and I have no inclination to do so.Those who nominated and elected me did so with full knowledge that I had made this and many similar declarations and had never recanted them; and more than this, they placed in the platform for my acceptance, and as a law to themselves and to me, the clear and emphatic resolution which I now read:'Resolved', That the maintenance inviolate of the rights of the States, and especially the right of each State to order and control its own domestic institutions according to its own judgment exclusively, is essential to that balance of power on which the \n",
       "<mark class=\"entity\" style=\"background: #ddd; padding: 0.45em 0.6em; margin: 0 0.25em; line-height: 1; border-radius: 0.35em; box-decoration-break: clone; -webkit-box-decoration-break: clone\">\n",
       "    perfection\n",
       "    <span style=\"font-size: 0.8em; font-weight: bold; line-height: 1; border-radius: 0.35em; text-transform: uppercase; vertical-align: middle; margin-left: 0.5rem\">GRE</span>\n",
       "</mark>\n",
       " and \n",
       "<mark class=\"entity\" style=\"background: #ddd; padding: 0.45em 0.6em; margin: 0 0.25em; line-height: 1; border-radius: 0.35em; box-decoration-break: clone; -webkit-box-decoration-break: clone\">\n",
       "    endurance\n",
       "    <span style=\"font-size: 0.8em; font-weight: bold; line-height: 1; border-radius: 0.35em; text-transform: uppercase; vertical-align: middle; margin-left: 0.5rem\">GRE</span>\n",
       "</mark>\n",
       " of our political fabric depend; and we \n",
       "<mark class=\"entity\" style=\"background: #ddd; padding: 0.45em 0.6em; margin: 0 0.25em; line-height: 1; border-radius: 0.35em; box-decoration-break: clone; -webkit-box-decoration-break: clone\">\n",
       "    denounce\n",
       "    <span style=\"font-size: 0.8em; font-weight: bold; line-height: 1; border-radius: 0.35em; text-transform: uppercase; vertical-align: middle; margin-left: 0.5rem\">GRE</span>\n",
       "</mark>\n",
       " the lawless invasion by armed force of the soil of any State or Territory, no matter what \n",
       "<mark class=\"entity\" style=\"background: #ddd; padding: 0.45em 0.6em; margin: 0 0.25em; line-height: 1; border-radius: 0.35em; box-decoration-break: clone; -webkit-box-decoration-break: clone\">\n",
       "    pretext\n",
       "    <span style=\"font-size: 0.8em; font-weight: bold; line-height: 1; border-radius: 0.35em; text-transform: uppercase; vertical-align: middle; margin-left: 0.5rem\">GRE</span>\n",
       "</mark>\n",
       ", as among the gravest of crimes.I now reiterate these sentiments, and in doing so I only press upon the public attention the most conclusive evidence of which the case is \n",
       "<mark class=\"entity\" style=\"background: #ddd; padding: 0.45em 0.6em; margin: 0 0.25em; line-height: 1; border-radius: 0.35em; box-decoration-break: clone; -webkit-box-decoration-break: clone\">\n",
       "    susceptible\n",
       "    <span style=\"font-size: 0.8em; font-weight: bold; line-height: 1; border-radius: 0.35em; text-transform: uppercase; vertical-align: middle; margin-left: 0.5rem\">GRE</span>\n",
       "</mark>\n",
       " that the property, peace, and security of no section are to be in any wise endangered by the now incoming Administration. I add, too, that all the protection which, consistently with the Constitution and the laws, can be given will be cheerfully given to all the States when lawfully demanded, for whatever cause--as cheerfully to one section as to another.There is much controversy about the delivering up of fugitives from service or labor. The clause I now read is as plainly written in the Constitution as any other of its provisions:No person held to service or labor in one State, under the laws thereof, escaping into another, shall in consequence of any law or regulation therein be discharged from such service or labor, but shall be delivered up on claim of the party to whom such service or labor may be due.It is scarcely questioned that this provision was intended by those who made it for the reclaiming of what we call fugitive slaves; and the intention of the lawgiver is the law. All members of Congress swear their support to the whole Constitution--to this provision as much as to any other. To the \n",
       "<mark class=\"entity\" style=\"background: #ddd; padding: 0.45em 0.6em; margin: 0 0.25em; line-height: 1; border-radius: 0.35em; box-decoration-break: clone; -webkit-box-decoration-break: clone\">\n",
       "    proposition\n",
       "    <span style=\"font-size: 0.8em; font-weight: bold; line-height: 1; border-radius: 0.35em; text-transform: uppercase; vertical-align: middle; margin-left: 0.5rem\">GRE</span>\n",
       "</mark>\n",
       ", then, that slaves whose cases come within the terms of this clause \"shall be delivered up\" their oaths are \n",
       "<mark class=\"entity\" style=\"background: #ddd; padding: 0.45em 0.6em; margin: 0 0.25em; line-height: 1; border-radius: 0.35em; box-decoration-break: clone; -webkit-box-decoration-break: clone\">\n",
       "    unanimous\n",
       "    <span style=\"font-size: 0.8em; font-weight: bold; line-height: 1; border-radius: 0.35em; text-transform: uppercase; vertical-align: middle; margin-left: 0.5rem\">GRE</span>\n",
       "</mark>\n",
       ". Now, if they would make the effort in good temper, could they not with nearly equal unanimity frame and pass a law by means of which to keep good that \n",
       "<mark class=\"entity\" style=\"background: #ddd; padding: 0.45em 0.6em; margin: 0 0.25em; line-height: 1; border-radius: 0.35em; box-decoration-break: clone; -webkit-box-decoration-break: clone\">\n",
       "    unanimous\n",
       "    <span style=\"font-size: 0.8em; font-weight: bold; line-height: 1; border-radius: 0.35em; text-transform: uppercase; vertical-align: middle; margin-left: 0.5rem\">GRE</span>\n",
       "</mark>\n",
       " oath?There is some difference of opinion whether this clause should be enforced by national or by State authority, but surely that difference is not a very material one. If the slave is to be surrendered, it can be of but little consequence to him or to others by which authority it is done. And should anyone in any case be content that his \n",
       "<mark class=\"entity\" style=\"background: #ddd; padding: 0.45em 0.6em; margin: 0 0.25em; line-height: 1; border-radius: 0.35em; box-decoration-break: clone; -webkit-box-decoration-break: clone\">\n",
       "    oath\n",
       "    <span style=\"font-size: 0.8em; font-weight: bold; line-height: 1; border-radius: 0.35em; text-transform: uppercase; vertical-align: middle; margin-left: 0.5rem\">GRE</span>\n",
       "</mark>\n",
       " shall go unkept on a merely unsubstantial controversy as to 'how' it shall be kept?Again: In any law upon this subject ought not all the safeguards of liberty known in civilized and humane jurisprudence to be introduced, so that a free man be not in any case surrendered as a slave? And might it not be well at the same time to provide by law for the enforcement of that clause in the Constitution which guarantees that \"the citizens of each State shall be entitled to all privileges and immunities of citizens in the several States\"?I take the official \n",
       "<mark class=\"entity\" style=\"background: #ddd; padding: 0.45em 0.6em; margin: 0 0.25em; line-height: 1; border-radius: 0.35em; box-decoration-break: clone; -webkit-box-decoration-break: clone\">\n",
       "    oath\n",
       "    <span style=\"font-size: 0.8em; font-weight: bold; line-height: 1; border-radius: 0.35em; text-transform: uppercase; vertical-align: middle; margin-left: 0.5rem\">GRE</span>\n",
       "</mark>\n",
       " to-day with no mental reservations and with no purpose to construe the Constitution or laws by any hypercritical rules; and while I do not choose now to specify particular acts of Congress as proper to be enforced, I do suggest that it will be much safer for all, both in official and private stations, to \n",
       "<mark class=\"entity\" style=\"background: #ddd; padding: 0.45em 0.6em; margin: 0 0.25em; line-height: 1; border-radius: 0.35em; box-decoration-break: clone; -webkit-box-decoration-break: clone\">\n",
       "    conform\n",
       "    <span style=\"font-size: 0.8em; font-weight: bold; line-height: 1; border-radius: 0.35em; text-transform: uppercase; vertical-align: middle; margin-left: 0.5rem\">GRE</span>\n",
       "</mark>\n",
       " to and abide by all those acts which stand unrepealed than to violate any of them trusting to find impunity in having them held to be unconstitutional.It is seventy-two years since the first inauguration of a President under our National Constitution. During that period fifteen different and greatly distinguished citizens have in succession administered the executive branch of the Government. They have conducted it through many perils, and generally with great success. Yet, with all this scope of \n",
       "<mark class=\"entity\" style=\"background: #ddd; padding: 0.45em 0.6em; margin: 0 0.25em; line-height: 1; border-radius: 0.35em; box-decoration-break: clone; -webkit-box-decoration-break: clone\">\n",
       "    precedent\n",
       "    <span style=\"font-size: 0.8em; font-weight: bold; line-height: 1; border-radius: 0.35em; text-transform: uppercase; vertical-align: middle; margin-left: 0.5rem\">GRE</span>\n",
       "</mark>\n",
       ", I now enter upon the same task for the brief constitutional term of four years under great and peculiar difficulty. A disruption of the Federal Union, heretofore only menaced, is now formidably attempted.I hold that in contemplation of universal law and of the Constitution the Union of these States is \n",
       "<mark class=\"entity\" style=\"background: #ddd; padding: 0.45em 0.6em; margin: 0 0.25em; line-height: 1; border-radius: 0.35em; box-decoration-break: clone; -webkit-box-decoration-break: clone\">\n",
       "    perpetual\n",
       "    <span style=\"font-size: 0.8em; font-weight: bold; line-height: 1; border-radius: 0.35em; text-transform: uppercase; vertical-align: middle; margin-left: 0.5rem\">GRE</span>\n",
       "</mark>\n",
       ". Perpetuity is implied, if not expressed, in the fundamental law of all national governments. It is safe to \n",
       "<mark class=\"entity\" style=\"background: #ddd; padding: 0.45em 0.6em; margin: 0 0.25em; line-height: 1; border-radius: 0.35em; box-decoration-break: clone; -webkit-box-decoration-break: clone\">\n",
       "    assert\n",
       "    <span style=\"font-size: 0.8em; font-weight: bold; line-height: 1; border-radius: 0.35em; text-transform: uppercase; vertical-align: middle; margin-left: 0.5rem\">GRE</span>\n",
       "</mark>\n",
       " that no government proper ever had a provision in its organic law for its own termination. Continue to execute all the express provisions of our National Constitution, and the Union will endure forever, it being impossible to destroy it except by some action not provided for in the instrument itself.Again: If the United States be not a government proper, but an association of States in the nature of contract merely, can it, as a contract, be peaceably unmade by less than all the parties who made it? One party to a contract may violate it--break it, so to speak--but does it not require all to lawfully rescind it?Descending from these general principles, we find the \n",
       "<mark class=\"entity\" style=\"background: #ddd; padding: 0.45em 0.6em; margin: 0 0.25em; line-height: 1; border-radius: 0.35em; box-decoration-break: clone; -webkit-box-decoration-break: clone\">\n",
       "    proposition\n",
       "    <span style=\"font-size: 0.8em; font-weight: bold; line-height: 1; border-radius: 0.35em; text-transform: uppercase; vertical-align: middle; margin-left: 0.5rem\">GRE</span>\n",
       "</mark>\n",
       " that in legal contemplation the Union is \n",
       "<mark class=\"entity\" style=\"background: #ddd; padding: 0.45em 0.6em; margin: 0 0.25em; line-height: 1; border-radius: 0.35em; box-decoration-break: clone; -webkit-box-decoration-break: clone\">\n",
       "    perpetual\n",
       "    <span style=\"font-size: 0.8em; font-weight: bold; line-height: 1; border-radius: 0.35em; text-transform: uppercase; vertical-align: middle; margin-left: 0.5rem\">GRE</span>\n",
       "</mark>\n",
       " confirmed by the history of the Union itself. The Union is much older than the Constitution. It was formed, in fact, by the Articles of Association in 1774. It was matured and continued by the Declaration of Independence in 1776. It was further matured, and the faith of all the then thirteen States expressly plighted and engaged that it should be \n",
       "<mark class=\"entity\" style=\"background: #ddd; padding: 0.45em 0.6em; margin: 0 0.25em; line-height: 1; border-radius: 0.35em; box-decoration-break: clone; -webkit-box-decoration-break: clone\">\n",
       "    perpetual\n",
       "    <span style=\"font-size: 0.8em; font-weight: bold; line-height: 1; border-radius: 0.35em; text-transform: uppercase; vertical-align: middle; margin-left: 0.5rem\">GRE</span>\n",
       "</mark>\n",
       ", by the Articles of Confederation in 1778. And finally, in 1787, one of the declared objects for ordaining and establishing the Constitution was \"to form a more perfect Union.\"But if destruction of the Union by one or by a part only of the States be lawfully possible, the Union is 'less' perfect than before the Constitution, having lost the vital element of perpetuity.It follows from these views that no State upon its own mere motion can lawfully get out of the Union; that 'resolves' and 'ordinances' to that effect are legally \n",
       "<mark class=\"entity\" style=\"background: #ddd; padding: 0.45em 0.6em; margin: 0 0.25em; line-height: 1; border-radius: 0.35em; box-decoration-break: clone; -webkit-box-decoration-break: clone\">\n",
       "    void\n",
       "    <span style=\"font-size: 0.8em; font-weight: bold; line-height: 1; border-radius: 0.35em; text-transform: uppercase; vertical-align: middle; margin-left: 0.5rem\">GRE</span>\n",
       "</mark>\n",
       ", and that acts of violence within any State or States against the authority of the United States are insurrectionary or revolutionary, according to circumstances.I therefore consider that in view of the Constitution and the laws the Union is unbroken, and to the extent of my ability, I shall take care, as the Constitution itself expressly enjoins upon me, that the laws of the Union be faithfully executed in all the States. Doing this I \n",
       "<mark class=\"entity\" style=\"background: #ddd; padding: 0.45em 0.6em; margin: 0 0.25em; line-height: 1; border-radius: 0.35em; box-decoration-break: clone; -webkit-box-decoration-break: clone\">\n",
       "    deem\n",
       "    <span style=\"font-size: 0.8em; font-weight: bold; line-height: 1; border-radius: 0.35em; text-transform: uppercase; vertical-align: middle; margin-left: 0.5rem\">GRE</span>\n",
       "</mark>\n",
       " to be only a simple duty on my part, and I shall perform it so far as \n",
       "<mark class=\"entity\" style=\"background: #ddd; padding: 0.45em 0.6em; margin: 0 0.25em; line-height: 1; border-radius: 0.35em; box-decoration-break: clone; -webkit-box-decoration-break: clone\">\n",
       "    practicable\n",
       "    <span style=\"font-size: 0.8em; font-weight: bold; line-height: 1; border-radius: 0.35em; text-transform: uppercase; vertical-align: middle; margin-left: 0.5rem\">GRE</span>\n",
       "</mark>\n",
       " unless my rightful masters, the American people, shall \n",
       "<mark class=\"entity\" style=\"background: #ddd; padding: 0.45em 0.6em; margin: 0 0.25em; line-height: 1; border-radius: 0.35em; box-decoration-break: clone; -webkit-box-decoration-break: clone\">\n",
       "    withhold\n",
       "    <span style=\"font-size: 0.8em; font-weight: bold; line-height: 1; border-radius: 0.35em; text-transform: uppercase; vertical-align: middle; margin-left: 0.5rem\">GRE</span>\n",
       "</mark>\n",
       " the requisite means or in some \n",
       "<mark class=\"entity\" style=\"background: #ddd; padding: 0.45em 0.6em; margin: 0 0.25em; line-height: 1; border-radius: 0.35em; box-decoration-break: clone; -webkit-box-decoration-break: clone\">\n",
       "    authoritative\n",
       "    <span style=\"font-size: 0.8em; font-weight: bold; line-height: 1; border-radius: 0.35em; text-transform: uppercase; vertical-align: middle; margin-left: 0.5rem\">GRE</span>\n",
       "</mark>\n",
       " manner direct the contrary. I trust this will not be regarded as a \n",
       "<mark class=\"entity\" style=\"background: #ddd; padding: 0.45em 0.6em; margin: 0 0.25em; line-height: 1; border-radius: 0.35em; box-decoration-break: clone; -webkit-box-decoration-break: clone\">\n",
       "    menace\n",
       "    <span style=\"font-size: 0.8em; font-weight: bold; line-height: 1; border-radius: 0.35em; text-transform: uppercase; vertical-align: middle; margin-left: 0.5rem\">GRE</span>\n",
       "</mark>\n",
       ", but only as the declared purpose of the Union that it 'will' constitutionally defend and maintain itself.In doing this there needs to be no bloodshed or violence, and there shall be none unless it be forced upon the national authority. The power confided to me will be used to hold, occupy, and possess the property and places belonging to the Government and to collect the duties and imposts; but beyond what may be necessary for these objects, there will be no invasion, no using of force against or among the people anywhere. Where hostility to the United States in any interior \n",
       "<mark class=\"entity\" style=\"background: #ddd; padding: 0.45em 0.6em; margin: 0 0.25em; line-height: 1; border-radius: 0.35em; box-decoration-break: clone; -webkit-box-decoration-break: clone\">\n",
       "    locality\n",
       "    <span style=\"font-size: 0.8em; font-weight: bold; line-height: 1; border-radius: 0.35em; text-transform: uppercase; vertical-align: middle; margin-left: 0.5rem\">GRE</span>\n",
       "</mark>\n",
       " shall be so great and universal as to prevent competent resident citizens from holding the Federal offices, there will be no attempt to force obnoxious strangers among the people for that object. While the strict legal right may exist in the Government to enforce the exercise of these offices, the attempt to do so would be so irritating and so nearly impracticable withal that I \n",
       "<mark class=\"entity\" style=\"background: #ddd; padding: 0.45em 0.6em; margin: 0 0.25em; line-height: 1; border-radius: 0.35em; box-decoration-break: clone; -webkit-box-decoration-break: clone\">\n",
       "    deem\n",
       "    <span style=\"font-size: 0.8em; font-weight: bold; line-height: 1; border-radius: 0.35em; text-transform: uppercase; vertical-align: middle; margin-left: 0.5rem\">GRE</span>\n",
       "</mark>\n",
       " it better to forego for the time the uses of such offices.The mails, unless repelled, will continue to be furnished in all parts of the Union. So far as possible the people everywhere shall have that sense of perfect security which is most favorable to calm thought and reflection. The course here indicated will be followed unless current events and experience shall show a modification or change to be proper, and in every case and exigency my best discretion will be exercised, according to circumstances actually existing and with a view and a hope of a peaceful solution of the national troubles and the restoration of fraternal sympathies and affections.That there are persons in one section or another who seek to destroy the Union at all events and are glad of any \n",
       "<mark class=\"entity\" style=\"background: #ddd; padding: 0.45em 0.6em; margin: 0 0.25em; line-height: 1; border-radius: 0.35em; box-decoration-break: clone; -webkit-box-decoration-break: clone\">\n",
       "    pretext\n",
       "    <span style=\"font-size: 0.8em; font-weight: bold; line-height: 1; border-radius: 0.35em; text-transform: uppercase; vertical-align: middle; margin-left: 0.5rem\">GRE</span>\n",
       "</mark>\n",
       " to do it I will neither \n",
       "<mark class=\"entity\" style=\"background: #ddd; padding: 0.45em 0.6em; margin: 0 0.25em; line-height: 1; border-radius: 0.35em; box-decoration-break: clone; -webkit-box-decoration-break: clone\">\n",
       "    affirm\n",
       "    <span style=\"font-size: 0.8em; font-weight: bold; line-height: 1; border-radius: 0.35em; text-transform: uppercase; vertical-align: middle; margin-left: 0.5rem\">GRE</span>\n",
       "</mark>\n",
       " nor deny; but if there be such, I need address no word to them. To those, however, who really love the Union may I not speak?Before entering upon so grave a matter as the destruction of our national fabric, with all its benefits, its memories, and its hopes, would it not be wise to \n",
       "<mark class=\"entity\" style=\"background: #ddd; padding: 0.45em 0.6em; margin: 0 0.25em; line-height: 1; border-radius: 0.35em; box-decoration-break: clone; -webkit-box-decoration-break: clone\">\n",
       "    ascertain\n",
       "    <span style=\"font-size: 0.8em; font-weight: bold; line-height: 1; border-radius: 0.35em; text-transform: uppercase; vertical-align: middle; margin-left: 0.5rem\">GRE</span>\n",
       "</mark>\n",
       " precisely why we do it? Will you hazard so desperate a step while there is any possibility that any portion of the ills you fly from have no real existence? Will you, while the certain ills you fly to are greater than all the real ones you fly from, will you risk the commission of so fearful a mistake?All \n",
       "<mark class=\"entity\" style=\"background: #ddd; padding: 0.45em 0.6em; margin: 0 0.25em; line-height: 1; border-radius: 0.35em; box-decoration-break: clone; -webkit-box-decoration-break: clone\">\n",
       "    profess\n",
       "    <span style=\"font-size: 0.8em; font-weight: bold; line-height: 1; border-radius: 0.35em; text-transform: uppercase; vertical-align: middle; margin-left: 0.5rem\">GRE</span>\n",
       "</mark>\n",
       " to be content in the Union if all constitutional rights can be maintained. Is it true, then, that any right plainly written in the Constitution has been denied? I think not. Happily, the human mind is so constituted that no party can reach to the audacity of doing this. Think, if you can, of a single instance in which a plainly written provision of the Constitution has ever been denied. If by the mere force of numbers a majority should \n",
       "<mark class=\"entity\" style=\"background: #ddd; padding: 0.45em 0.6em; margin: 0 0.25em; line-height: 1; border-radius: 0.35em; box-decoration-break: clone; -webkit-box-decoration-break: clone\">\n",
       "    deprive\n",
       "    <span style=\"font-size: 0.8em; font-weight: bold; line-height: 1; border-radius: 0.35em; text-transform: uppercase; vertical-align: middle; margin-left: 0.5rem\">GRE</span>\n",
       "</mark>\n",
       " a minority of any clearly written constitutional right, it might in a moral point of view justify revolution; certainly would if such right were a vital one. But such is not our case. All the vital rights of minorities and of individuals are so plainly assured to them by affirmations and negations, guaranties and prohibitions, in the Constitution that controversies never arise concerning them. But no organic law can ever be framed with a provision specifically applicable to every question which may occur in practical administration. No foresight can anticipate nor any document of reasonable length contain express provisions for all possible questions. Shall fugitives from labor be surrendered by national or by State authority? The Constitution does not expressly say. 'May' Congress prohibit slavery in the Territories? The Constitution does not expressly say. 'Must' Congress protect slavery in the Territories? The Constitution does not expressly say.From questions of this class spring all our constitutional controversies, and we divide upon them into majorities and minorities. If the minority will not acquiesce, the majority must, or the Government must cease. There is no other alternative, for continuing the Government is acquiescence on one side or the other. If a minority in such case will secede rather than acquiesce, they make a \n",
       "<mark class=\"entity\" style=\"background: #ddd; padding: 0.45em 0.6em; margin: 0 0.25em; line-height: 1; border-radius: 0.35em; box-decoration-break: clone; -webkit-box-decoration-break: clone\">\n",
       "    precedent\n",
       "    <span style=\"font-size: 0.8em; font-weight: bold; line-height: 1; border-radius: 0.35em; text-transform: uppercase; vertical-align: middle; margin-left: 0.5rem\">GRE</span>\n",
       "</mark>\n",
       " which in turn will divide and ruin them, for a minority of their own will secede from them whenever a majority refuses to be controlled by such minority. For instance, why may not any portion of a new confederacy a year or two hence arbitrarily secede again, precisely as portions of the present Union now claim to secede from it? All who \n",
       "<mark class=\"entity\" style=\"background: #ddd; padding: 0.45em 0.6em; margin: 0 0.25em; line-height: 1; border-radius: 0.35em; box-decoration-break: clone; -webkit-box-decoration-break: clone\">\n",
       "    cherish\n",
       "    <span style=\"font-size: 0.8em; font-weight: bold; line-height: 1; border-radius: 0.35em; text-transform: uppercase; vertical-align: middle; margin-left: 0.5rem\">GRE</span>\n",
       "</mark>\n",
       " disunion sentiments are now being educated to the exact temper of doing this.Is there such perfect identity of interests among the States to compose a new union as to produce harmony only and prevent renewed secession?Plainly the central idea of secession is the \n",
       "<mark class=\"entity\" style=\"background: #ddd; padding: 0.45em 0.6em; margin: 0 0.25em; line-height: 1; border-radius: 0.35em; box-decoration-break: clone; -webkit-box-decoration-break: clone\">\n",
       "    essence\n",
       "    <span style=\"font-size: 0.8em; font-weight: bold; line-height: 1; border-radius: 0.35em; text-transform: uppercase; vertical-align: middle; margin-left: 0.5rem\">GRE</span>\n",
       "</mark>\n",
       " of anarchy. A majority held in restraint by constitutional checks and limitations, and always changing easily with deliberate changes of popular opinions and sentiments, is the only true \n",
       "<mark class=\"entity\" style=\"background: #ddd; padding: 0.45em 0.6em; margin: 0 0.25em; line-height: 1; border-radius: 0.35em; box-decoration-break: clone; -webkit-box-decoration-break: clone\">\n",
       "    sovereign\n",
       "    <span style=\"font-size: 0.8em; font-weight: bold; line-height: 1; border-radius: 0.35em; text-transform: uppercase; vertical-align: middle; margin-left: 0.5rem\">GRE</span>\n",
       "</mark>\n",
       " of a free people. Whoever rejects it does of necessity fly to anarchy or to despotism. Unanimity is impossible. The rule of a minority, as a permanent arrangement, is wholly inadmissible; so that, rejecting the majority principle, anarchy or despotism in some form is all that is left.I do not forget the position assumed by some that constitutional questions are to be decided by the Supreme Court, nor do I deny that such decisions must be binding in any case upon the parties to a suit as to the object of that suit, while they are also entitled to very high respect and consideration in all parallel cases by all other departments of the Government. And while it is obviously possible that such decision may be \n",
       "<mark class=\"entity\" style=\"background: #ddd; padding: 0.45em 0.6em; margin: 0 0.25em; line-height: 1; border-radius: 0.35em; box-decoration-break: clone; -webkit-box-decoration-break: clone\">\n",
       "    erroneous\n",
       "    <span style=\"font-size: 0.8em; font-weight: bold; line-height: 1; border-radius: 0.35em; text-transform: uppercase; vertical-align: middle; margin-left: 0.5rem\">GRE</span>\n",
       "</mark>\n",
       " in any given case, still the evil effect following it, being limited to that particular case, with the chance that it may be overruled and never become a \n",
       "<mark class=\"entity\" style=\"background: #ddd; padding: 0.45em 0.6em; margin: 0 0.25em; line-height: 1; border-radius: 0.35em; box-decoration-break: clone; -webkit-box-decoration-break: clone\">\n",
       "    precedent\n",
       "    <span style=\"font-size: 0.8em; font-weight: bold; line-height: 1; border-radius: 0.35em; text-transform: uppercase; vertical-align: middle; margin-left: 0.5rem\">GRE</span>\n",
       "</mark>\n",
       " for other cases, can better be borne than could the evils of a different practice. At the same time, the candid citizen must confess that if the policy of the Government upon vital questions affecting the whole people is to be irrevocably fixed by decisions of the Supreme Court, the instant they are made in ordinary litigation between parties in personal actions the people will have ceased to be their own rulers, having to that extent practically resigned their Government into the hands of that eminent tribunal. Nor is there in this view any \n",
       "<mark class=\"entity\" style=\"background: #ddd; padding: 0.45em 0.6em; margin: 0 0.25em; line-height: 1; border-radius: 0.35em; box-decoration-break: clone; -webkit-box-decoration-break: clone\">\n",
       "    assault\n",
       "    <span style=\"font-size: 0.8em; font-weight: bold; line-height: 1; border-radius: 0.35em; text-transform: uppercase; vertical-align: middle; margin-left: 0.5rem\">GRE</span>\n",
       "</mark>\n",
       " upon the court or the judges. It is a duty from which they may not shrink to decide cases properly brought before them, and it is no fault of theirs if others seek to turn their decisions to political purposes.One section of our country believes slavery is 'right' and ought to be extended, while the other believes it is 'wrong' and ought not to be extended. This is the only substantial dispute. The fugitive-slave clause of the Constitution and the law for the suppression of the foreign slave trade are each as well enforced, perhaps, as any law can ever be in a community where the moral sense of the people imperfectly supports the law itself. The great body of the people abide by the dry legal obligation in both cases, and a few break over in each. This, I think, can not be perfectly cured, and it would be worse in both cases 'after' the separation of the sections than before. The foreign slave trade, now imperfectly suppressed, would be ultimately revived without restriction in one section, while fugitive slaves, now only partially surrendered, would not be surrendered at all by the other.Physically speaking, we can not separate. We can not remove our respective sections from each other nor build an impassable wall between them. A husband and wife may be divorced and go out of the presence and beyond the reach of each other, but the different parts of our country can not do this. They can not but remain face to face, and \n",
       "<mark class=\"entity\" style=\"background: #ddd; padding: 0.45em 0.6em; margin: 0 0.25em; line-height: 1; border-radius: 0.35em; box-decoration-break: clone; -webkit-box-decoration-break: clone\">\n",
       "    intercourse\n",
       "    <span style=\"font-size: 0.8em; font-weight: bold; line-height: 1; border-radius: 0.35em; text-transform: uppercase; vertical-align: middle; margin-left: 0.5rem\">GRE</span>\n",
       "</mark>\n",
       ", either amicable or hostile, must continue between them. Is it possible, then, to make that \n",
       "<mark class=\"entity\" style=\"background: #ddd; padding: 0.45em 0.6em; margin: 0 0.25em; line-height: 1; border-radius: 0.35em; box-decoration-break: clone; -webkit-box-decoration-break: clone\">\n",
       "    intercourse\n",
       "    <span style=\"font-size: 0.8em; font-weight: bold; line-height: 1; border-radius: 0.35em; text-transform: uppercase; vertical-align: middle; margin-left: 0.5rem\">GRE</span>\n",
       "</mark>\n",
       " more advantageous or more satisfactory 'after' separation than 'before'? Can aliens make treaties easier than friends can make laws? Can treaties be more faithfully enforced between aliens than laws can among friends? Suppose you go to war, you can not fight always; and when, after much loss on both sides and no gain on either, you cease fighting, the identical old questions, as to terms of \n",
       "<mark class=\"entity\" style=\"background: #ddd; padding: 0.45em 0.6em; margin: 0 0.25em; line-height: 1; border-radius: 0.35em; box-decoration-break: clone; -webkit-box-decoration-break: clone\">\n",
       "    intercourse\n",
       "    <span style=\"font-size: 0.8em; font-weight: bold; line-height: 1; border-radius: 0.35em; text-transform: uppercase; vertical-align: middle; margin-left: 0.5rem\">GRE</span>\n",
       "</mark>\n",
       ", are again upon you.This country, with its institutions, belongs to the people who inhabit it. Whenever they shall grow weary of the existing Government, they can exercise their 'constitutional' right of amending it or their 'revolutionary' right to dismember or \n",
       "<mark class=\"entity\" style=\"background: #ddd; padding: 0.45em 0.6em; margin: 0 0.25em; line-height: 1; border-radius: 0.35em; box-decoration-break: clone; -webkit-box-decoration-break: clone\">\n",
       "    overthrow\n",
       "    <span style=\"font-size: 0.8em; font-weight: bold; line-height: 1; border-radius: 0.35em; text-transform: uppercase; vertical-align: middle; margin-left: 0.5rem\">GRE</span>\n",
       "</mark>\n",
       " it. I can not be ignorant of the fact that many worthy and \n",
       "<mark class=\"entity\" style=\"background: #ddd; padding: 0.45em 0.6em; margin: 0 0.25em; line-height: 1; border-radius: 0.35em; box-decoration-break: clone; -webkit-box-decoration-break: clone\">\n",
       "    patriotic\n",
       "    <span style=\"font-size: 0.8em; font-weight: bold; line-height: 1; border-radius: 0.35em; text-transform: uppercase; vertical-align: middle; margin-left: 0.5rem\">GRE</span>\n",
       "</mark>\n",
       " citizens are desirous of having the National Constitution amended. While I make no recommendation of amendments, I fully recognize the rightful authority of the people over the whole subject, to be exercised in either of the modes prescribed in the instrument itself; and I should, under existing circumstances, favor rather than oppose a fair opportunity being afforded the people to act upon it. I will venture to add that to me the convention mode seems preferable, in that it allows amendments to \n",
       "<mark class=\"entity\" style=\"background: #ddd; padding: 0.45em 0.6em; margin: 0 0.25em; line-height: 1; border-radius: 0.35em; box-decoration-break: clone; -webkit-box-decoration-break: clone\">\n",
       "    originate\n",
       "    <span style=\"font-size: 0.8em; font-weight: bold; line-height: 1; border-radius: 0.35em; text-transform: uppercase; vertical-align: middle; margin-left: 0.5rem\">GRE</span>\n",
       "</mark>\n",
       " with the people themselves, instead of only permitting them to take or reject propositions originated by others, not especially chosen for the purpose, and which might not be precisely such as they would wish to either accept or refuse. I understand a proposed amendment to the Constitution--which amendment, however, I have not seen--has passed Congress, to the effect that the Federal Government shall never interfere with the domestic institutions of the States, including that of persons held to service. To avoid misconstruction of what I have said, I depart from my purpose not to speak of particular amendments so far as to say that, holding such a provision to now be implied constitutional law, I have no objection to its being made express and irrevocable.The Chief Magistrate derives all his authority from the people, and they have referred none upon him to fix terms for the separation of the States. The people themselves can do this if also they choose, but the Executive as such has nothing to do with it. His duty is to \n",
       "<mark class=\"entity\" style=\"background: #ddd; padding: 0.45em 0.6em; margin: 0 0.25em; line-height: 1; border-radius: 0.35em; box-decoration-break: clone; -webkit-box-decoration-break: clone\">\n",
       "    administer\n",
       "    <span style=\"font-size: 0.8em; font-weight: bold; line-height: 1; border-radius: 0.35em; text-transform: uppercase; vertical-align: middle; margin-left: 0.5rem\">GRE</span>\n",
       "</mark>\n",
       " the present Government as it came to his hands and to transmit it unimpaired by him to his \n",
       "<mark class=\"entity\" style=\"background: #ddd; padding: 0.45em 0.6em; margin: 0 0.25em; line-height: 1; border-radius: 0.35em; box-decoration-break: clone; -webkit-box-decoration-break: clone\">\n",
       "    successor\n",
       "    <span style=\"font-size: 0.8em; font-weight: bold; line-height: 1; border-radius: 0.35em; text-transform: uppercase; vertical-align: middle; margin-left: 0.5rem\">GRE</span>\n",
       "</mark>\n",
       ".Why should there not be a patient confidence in the ultimate justice of the people? Is there any better or equal hope in the world? In our present differences, is either party without faith of being in the right? If the Almighty Ruler of Nations, with His \n",
       "<mark class=\"entity\" style=\"background: #ddd; padding: 0.45em 0.6em; margin: 0 0.25em; line-height: 1; border-radius: 0.35em; box-decoration-break: clone; -webkit-box-decoration-break: clone\">\n",
       "    eternal\n",
       "    <span style=\"font-size: 0.8em; font-weight: bold; line-height: 1; border-radius: 0.35em; text-transform: uppercase; vertical-align: middle; margin-left: 0.5rem\">GRE</span>\n",
       "</mark>\n",
       " truth and justice, be on your side of the North, or on yours of the South, that truth and that justice will surely prevail by the judgment of this great tribunal of the American people.By the frame of the Government under which we live this same people have wisely given their public servants but little power for mischief, and have with equal wisdom provided for the return of that little to their own hands at very short intervals. While the people retain their virtue and vigilance no Administration by any extreme of wickedness or folly can very seriously injure the Government in the short space of four years.My countrymen, one and all, think calmly and 'well' upon this whole subject. Nothing valuable can be lost by taking time. If there be an object to 'hurry' any of you in hot haste to a step which you would never take 'deliberately', that object will be frustrated by taking time; but no good object can be frustrated by it. Such of you as are now dissatisfied still have the old Constitution unimpaired, and, on the sensitive point, the laws of your own framing under it; while the new Administration will have no immediate power, if it would, to change either. If it were admitted that you who are dissatisfied hold the right side in the dispute, there still is no single good reason for precipitate action. Intelligence, patriotism, Christianity, and a firm reliance on Him who has never yet forsaken this favored land are still competent to adjust in the best way all our present difficulty.In 'your' hands, my dissatisfied fellow-countrymen, and not in 'mine', is the momentous issue of civil war. The Government will not assail 'you'. You can have no conflict without being yourselves the aggressors. 'You' have no \n",
       "<mark class=\"entity\" style=\"background: #ddd; padding: 0.45em 0.6em; margin: 0 0.25em; line-height: 1; border-radius: 0.35em; box-decoration-break: clone; -webkit-box-decoration-break: clone\">\n",
       "    oath\n",
       "    <span style=\"font-size: 0.8em; font-weight: bold; line-height: 1; border-radius: 0.35em; text-transform: uppercase; vertical-align: middle; margin-left: 0.5rem\">GRE</span>\n",
       "</mark>\n",
       " registered in heaven to destroy the Government, while I shall have the most solemn one to \"preserve, protect, and defend it.\"I am loath to close. We are not enemies, but friends. We must not be enemies. Though passion may have strained it must not break our bonds of affection. The mystic chords of memory, stretching from every battlefield and \n",
       "<mark class=\"entity\" style=\"background: #ddd; padding: 0.45em 0.6em; margin: 0 0.25em; line-height: 1; border-radius: 0.35em; box-decoration-break: clone; -webkit-box-decoration-break: clone\">\n",
       "    patriot\n",
       "    <span style=\"font-size: 0.8em; font-weight: bold; line-height: 1; border-radius: 0.35em; text-transform: uppercase; vertical-align: middle; margin-left: 0.5rem\">GRE</span>\n",
       "</mark>\n",
       " grave to every living heart and hearthstone all over this broad land, will yet swell the \n",
       "<mark class=\"entity\" style=\"background: #ddd; padding: 0.45em 0.6em; margin: 0 0.25em; line-height: 1; border-radius: 0.35em; box-decoration-break: clone; -webkit-box-decoration-break: clone\">\n",
       "    chorus\n",
       "    <span style=\"font-size: 0.8em; font-weight: bold; line-height: 1; border-radius: 0.35em; text-transform: uppercase; vertical-align: middle; margin-left: 0.5rem\">GRE</span>\n",
       "</mark>\n",
       " of the Union, when again touched, as surely they will be, by the better angels of our nature.</div>"
      ],
      "text/plain": [
       "<IPython.core.display.HTML object>"
      ]
     },
     "metadata": {},
     "output_type": "display_data"
    }
   ],
   "source": [
    "displacy.render(doc, style='ent',jupyter=True)"
   ]
  }
 ],
 "metadata": {
  "kernelspec": {
   "display_name": "Python 3",
   "language": "python",
   "name": "python3"
  },
  "language_info": {
   "codemirror_mode": {
    "name": "ipython",
    "version": 3
   },
   "file_extension": ".py",
   "mimetype": "text/x-python",
   "name": "python",
   "nbconvert_exporter": "python",
   "pygments_lexer": "ipython3",
   "version": "3.6.1"
  }
 },
 "nbformat": 4,
 "nbformat_minor": 2
}
